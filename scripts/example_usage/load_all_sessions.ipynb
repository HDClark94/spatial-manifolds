{
 "cells": [
  {
   "cell_type": "code",
   "execution_count": null,
   "metadata": {},
   "outputs": [],
   "source": [
    "import numpy as np\n",
    "from matplotlib import pyplot as plt\n",
    "import pandas as pd\n",
    "from sklearn.cluster import KMeans\n",
    "from scipy import stats\n",
    "from pathlib import Path\n",
    "import pynapple as nap\n",
    "\n",
    "from spatial_manifolds.data.binning import get_bin_config\n",
    "from spatial_manifolds.data.loading import load_session\n",
    "\n",
    "import warnings\n",
    "warnings.filterwarnings('ignore')\n",
    "%load_ext autoreload\n",
    "%autoreload 2\n"
   ]
  },
  {
   "cell_type": "code",
   "execution_count": null,
   "metadata": {},
   "outputs": [],
   "source": [
    "mouse = 0\n",
    "day = 0\n",
    "session_type = 'VR'\n",
    "sorter = 'kilosort4'\n",
    "storage = Path('/Users/harryclark/Downloads/COHORT12_nolfp/')\n",
    "\n",
    "alpha = 0.001\n",
    "n_jobs = 8\n",
    "n_shuffles = 100\n",
    "seed = 1\n",
    "\n",
    "class Args:\n",
    "    def __init__(self,mouse,day,session_type,sorter,storage,alpha,n_jobs,n_shuffles,seed):\n",
    "        self.mouse = mouse\n",
    "        self.day = day\n",
    "        self.session_type = session_type\n",
    "        self.sorter = sorter\n",
    "        self.storage = storage\n",
    "        self.alpha = alpha\n",
    "        self.n_jobs = n_jobs\n",
    "        self.n_shuffles = n_shuffles\n",
    "        self.seed = seed\n",
    "args = Args(mouse,day,session_type,sorter,storage,alpha,n_jobs,n_shuffles,seed)\n",
    "\n",
    "if session_type == 'VR':\n",
    "    tl = 200\n",
    "elif session_type == 'MCVR':\n",
    "    tl = 230\n"
   ]
  },
  {
   "cell_type": "code",
   "execution_count": null,
   "metadata": {},
   "outputs": [],
   "source": [
    "# reading all sessions with the ramp class parquet\n",
    "\n",
    "# Load session\n",
    "sessions = {}\n",
    "for session_path in sorted(\n",
    "    list(args.storage.glob(f'*/*/{args.session_type}/*{args.session_type}.nwb'))\n",
    "):  \n",
    "    print(session_path)\n",
    "    args.mouse = int(session_path.parent.parent.parent.name[1:])\n",
    "    args.day = int(session_path.parent.parent.name[1:])\n",
    "    mouse_day = f'M{args.mouse}D{args.day}'\n",
    "    sessions[mouse_day] = (\n",
    "        *load_session(args),\n",
    "        pd.read_parquet(\n",
    "            session_path.parent / 'tuning_scores' / 'ramp_class.parquet'\n",
    "        ),\n",
    "    )\n",
    "bin_config = get_bin_config(args.session_type)['P']"
   ]
  },
  {
   "cell_type": "code",
   "execution_count": null,
   "metadata": {},
   "outputs": [],
   "source": [
    "args.session_type = 'OF1'\n",
    "# Load session\n",
    "sessions = {}\n",
    "for session_path in sorted(\n",
    "    list(args.storage.glob(f'*/*/{args.session_type}/*{args.session_type}.nwb'))\n",
    "):  \n",
    "    print(session_path)\n",
    "    args.mouse = int(session_path.parent.parent.parent.name[1:])\n",
    "    args.day = int(session_path.parent.parent.name[1:])\n",
    "    mouse_day = f'M{args.mouse}D{args.day}'\n",
    "    sessions[mouse_day] = (\n",
    "        *load_session(args),\n",
    "        pd.read_parquet(\n",
    "            session_path.parent / 'tuning_scores' / 'grid_score.parquet'\n",
    "        ),\n",
    "        pd.read_parquet(\n",
    "            session_path.parent / 'tuning_scores' / 'theta_index.parquet'\n",
    "        ),\n",
    "        pd.read_parquet(\n",
    "            session_path.parent / 'tuning_scores' / 'spatial_information.parquet'\n",
    "        ),\n",
    "    )\n",
    "bin_config = get_bin_config(args.session_type)['P']"
   ]
  }
 ],
 "metadata": {
  "kernelspec": {
   "display_name": "sm",
   "language": "python",
   "name": "python3"
  },
  "language_info": {
   "codemirror_mode": {
    "name": "ipython",
    "version": 3
   },
   "file_extension": ".py",
   "mimetype": "text/x-python",
   "name": "python",
   "nbconvert_exporter": "python",
   "pygments_lexer": "ipython3",
   "version": "3.11.11"
  }
 },
 "nbformat": 4,
 "nbformat_minor": 2
}
