{
 "cells": [
  {
   "cell_type": "code",
   "execution_count": 31,
   "metadata": {},
   "outputs": [
    {
     "name": "stdout",
     "output_type": "stream",
     "text": [
      "The autoreload extension is already loaded. To reload it, use:\n",
      "  %reload_ext autoreload\n"
     ]
    }
   ],
   "source": [
    "import numpy as np\n",
    "from matplotlib import pyplot as plt\n",
    "import pandas as pd\n",
    "from sklearn.cluster import KMeans\n",
    "from scipy import stats\n",
    "from pathlib import Path\n",
    "import pynapple as nap\n",
    "\n",
    "from spatial_manifolds.data.binning import get_bin_config\n",
    "from spatial_manifolds.data.loading import load_session\n",
    "\n",
    "import warnings\n",
    "warnings.filterwarnings('ignore')\n",
    "%load_ext autoreload\n",
    "%autoreload 2\n"
   ]
  },
  {
   "cell_type": "code",
   "execution_count": 32,
   "metadata": {},
   "outputs": [],
   "source": [
    "mouse = 0\n",
    "day = 0\n",
    "session_type = 'OF1'\n",
    "sorter = 'kilosort4'\n",
    "storage = Path('/Users/harryclark/Downloads/COHORT12_nolfp/')\n",
    "\n",
    "alpha = 0.001\n",
    "n_jobs = 8\n",
    "n_shuffles = 100\n",
    "seed = 1\n",
    "\n",
    "class Args:\n",
    "    def __init__(self,mouse,day,session_type,sorter,storage,alpha,n_jobs,n_shuffles,seed):\n",
    "        self.mouse = mouse\n",
    "        self.day = day\n",
    "        self.session_type = session_type\n",
    "        self.sorter = sorter\n",
    "        self.storage = storage\n",
    "        self.alpha = alpha\n",
    "        self.n_jobs = n_jobs\n",
    "        self.n_shuffles = n_shuffles\n",
    "        self.seed = seed\n",
    "args = Args(mouse,day,session_type,sorter,storage,alpha,n_jobs,n_shuffles,seed)\n",
    "\n",
    "if session_type == 'VR':\n",
    "    tl = 200\n",
    "elif session_type == 'MCVR':\n",
    "    tl = 230\n"
   ]
  },
  {
   "cell_type": "code",
   "execution_count": 33,
   "metadata": {},
   "outputs": [
    {
     "data": {
      "text/plain": [
       "{('P_x', 'P_y'): {'dim': '2d',\n",
       "  'bounds': (0.0, 100.0, 0.0, 100.0),\n",
       "  'num_bins': 40,\n",
       "  'smooth_sigma': 1.5},\n",
       " 'S': {'dim': '1d', 'bounds': (3.0, 45.0), 'num_bins': 15},\n",
       " 'T': {'dim': '1dc',\n",
       "  'bounds': (-3.141592653589793, 3.141592653589793),\n",
       "  'num_bins': 10},\n",
       " 'H': {'dim': '1dc',\n",
       "  'bounds': (-3.141592653589793, 3.141592653589793),\n",
       "  'num_bins': 20}}"
      ]
     },
     "execution_count": 33,
     "metadata": {},
     "output_type": "execute_result"
    }
   ],
   "source": [
    "get_bin_config(args.session_type)"
   ]
  },
  {
   "cell_type": "code",
   "execution_count": 34,
   "metadata": {},
   "outputs": [
    {
     "name": "stdout",
     "output_type": "stream",
     "text": [
      "/Users/harryclark/Downloads/COHORT12_nolfp/M20/D14/OF1/M20D14OF1.nwb\n",
      "/Users/harryclark/Downloads/COHORT12_nolfp/M20/D15/OF1/M20D15OF1.nwb\n",
      "/Users/harryclark/Downloads/COHORT12_nolfp/M20/D16/OF1/M20D16OF1.nwb\n",
      "/Users/harryclark/Downloads/COHORT12_nolfp/M20/D17/OF1/M20D17OF1.nwb\n",
      "/Users/harryclark/Downloads/COHORT12_nolfp/M20/D18/OF1/M20D18OF1.nwb\n",
      "/Users/harryclark/Downloads/COHORT12_nolfp/M20/D19/OF1/M20D19OF1.nwb\n",
      "/Users/harryclark/Downloads/COHORT12_nolfp/M20/D20/OF1/M20D20OF1.nwb\n",
      "/Users/harryclark/Downloads/COHORT12_nolfp/M20/D21/OF1/M20D21OF1.nwb\n",
      "/Users/harryclark/Downloads/COHORT12_nolfp/M20/D22/OF1/M20D22OF1.nwb\n",
      "/Users/harryclark/Downloads/COHORT12_nolfp/M20/D23/OF1/M20D23OF1.nwb\n",
      "/Users/harryclark/Downloads/COHORT12_nolfp/M20/D24/OF1/M20D24OF1.nwb\n",
      "/Users/harryclark/Downloads/COHORT12_nolfp/M20/D25/OF1/M20D25OF1.nwb\n",
      "/Users/harryclark/Downloads/COHORT12_nolfp/M20/D26/OF1/M20D26OF1.nwb\n",
      "/Users/harryclark/Downloads/COHORT12_nolfp/M20/D27/OF1/M20D27OF1.nwb\n",
      "/Users/harryclark/Downloads/COHORT12_nolfp/M20/D28/OF1/M20D28OF1.nwb\n",
      "/Users/harryclark/Downloads/COHORT12_nolfp/M21/D15/OF1/M21D15OF1.nwb\n",
      "/Users/harryclark/Downloads/COHORT12_nolfp/M21/D16/OF1/M21D16OF1.nwb\n",
      "/Users/harryclark/Downloads/COHORT12_nolfp/M21/D17/OF1/M21D17OF1.nwb\n",
      "/Users/harryclark/Downloads/COHORT12_nolfp/M21/D18/OF1/M21D18OF1.nwb\n",
      "/Users/harryclark/Downloads/COHORT12_nolfp/M21/D19/OF1/M21D19OF1.nwb\n",
      "/Users/harryclark/Downloads/COHORT12_nolfp/M21/D20/OF1/M21D20OF1.nwb\n",
      "/Users/harryclark/Downloads/COHORT12_nolfp/M21/D21/OF1/M21D21OF1.nwb\n",
      "/Users/harryclark/Downloads/COHORT12_nolfp/M21/D22/OF1/M21D22OF1.nwb\n",
      "/Users/harryclark/Downloads/COHORT12_nolfp/M21/D23/OF1/M21D23OF1.nwb\n",
      "/Users/harryclark/Downloads/COHORT12_nolfp/M21/D24/OF1/M21D24OF1.nwb\n",
      "/Users/harryclark/Downloads/COHORT12_nolfp/M21/D25/OF1/M21D25OF1.nwb\n",
      "/Users/harryclark/Downloads/COHORT12_nolfp/M21/D26/OF1/M21D26OF1.nwb\n",
      "/Users/harryclark/Downloads/COHORT12_nolfp/M21/D27/OF1/M21D27OF1.nwb\n",
      "/Users/harryclark/Downloads/COHORT12_nolfp/M21/D28/OF1/M21D28OF1.nwb\n",
      "/Users/harryclark/Downloads/COHORT12_nolfp/M22/D33/OF1/M22D33OF1.nwb\n",
      "/Users/harryclark/Downloads/COHORT12_nolfp/M22/D34/OF1/M22D34OF1.nwb\n",
      "/Users/harryclark/Downloads/COHORT12_nolfp/M22/D35/OF1/M22D35OF1.nwb\n",
      "/Users/harryclark/Downloads/COHORT12_nolfp/M22/D36/OF1/M22D36OF1.nwb\n",
      "/Users/harryclark/Downloads/COHORT12_nolfp/M22/D37/OF1/M22D37OF1.nwb\n",
      "/Users/harryclark/Downloads/COHORT12_nolfp/M22/D38/OF1/M22D38OF1.nwb\n",
      "/Users/harryclark/Downloads/COHORT12_nolfp/M22/D39/OF1/M22D39OF1.nwb\n",
      "/Users/harryclark/Downloads/COHORT12_nolfp/M22/D40/OF1/M22D40OF1.nwb\n",
      "/Users/harryclark/Downloads/COHORT12_nolfp/M22/D41/OF1/M22D41OF1.nwb\n",
      "/Users/harryclark/Downloads/COHORT12_nolfp/M25/D16/OF1/M25D16OF1.nwb\n",
      "/Users/harryclark/Downloads/COHORT12_nolfp/M25/D17/OF1/M25D17OF1.nwb\n",
      "/Users/harryclark/Downloads/COHORT12_nolfp/M25/D18/OF1/M25D18OF1.nwb\n",
      "/Users/harryclark/Downloads/COHORT12_nolfp/M25/D19/OF1/M25D19OF1.nwb\n",
      "/Users/harryclark/Downloads/COHORT12_nolfp/M25/D20/OF1/M25D20OF1.nwb\n",
      "/Users/harryclark/Downloads/COHORT12_nolfp/M25/D21/OF1/M25D21OF1.nwb\n",
      "/Users/harryclark/Downloads/COHORT12_nolfp/M25/D22/OF1/M25D22OF1.nwb\n",
      "/Users/harryclark/Downloads/COHORT12_nolfp/M25/D23/OF1/M25D23OF1.nwb\n",
      "/Users/harryclark/Downloads/COHORT12_nolfp/M25/D24/OF1/M25D24OF1.nwb\n",
      "/Users/harryclark/Downloads/COHORT12_nolfp/M25/D25/OF1/M25D25OF1.nwb\n",
      "/Users/harryclark/Downloads/COHORT12_nolfp/M26/D11/OF1/M26D11OF1.nwb\n",
      "/Users/harryclark/Downloads/COHORT12_nolfp/M26/D12/OF1/M26D12OF1.nwb\n",
      "/Users/harryclark/Downloads/COHORT12_nolfp/M26/D13/OF1/M26D13OF1.nwb\n",
      "/Users/harryclark/Downloads/COHORT12_nolfp/M26/D14/OF1/M26D14OF1.nwb\n",
      "/Users/harryclark/Downloads/COHORT12_nolfp/M26/D15/OF1/M26D15OF1.nwb\n",
      "/Users/harryclark/Downloads/COHORT12_nolfp/M26/D16/OF1/M26D16OF1.nwb\n",
      "/Users/harryclark/Downloads/COHORT12_nolfp/M26/D17/OF1/M26D17OF1.nwb\n",
      "/Users/harryclark/Downloads/COHORT12_nolfp/M26/D18/OF1/M26D18OF1.nwb\n",
      "/Users/harryclark/Downloads/COHORT12_nolfp/M26/D19/OF1/M26D19OF1.nwb\n",
      "/Users/harryclark/Downloads/COHORT12_nolfp/M27/D16/OF1/M27D16OF1.nwb\n",
      "/Users/harryclark/Downloads/COHORT12_nolfp/M27/D17/OF1/M27D17OF1.nwb\n",
      "/Users/harryclark/Downloads/COHORT12_nolfp/M27/D18/OF1/M27D18OF1.nwb\n",
      "/Users/harryclark/Downloads/COHORT12_nolfp/M27/D19/OF1/M27D19OF1.nwb\n",
      "/Users/harryclark/Downloads/COHORT12_nolfp/M27/D20/OF1/M27D20OF1.nwb\n",
      "/Users/harryclark/Downloads/COHORT12_nolfp/M27/D21/OF1/M27D21OF1.nwb\n",
      "/Users/harryclark/Downloads/COHORT12_nolfp/M27/D22/OF1/M27D22OF1.nwb\n",
      "/Users/harryclark/Downloads/COHORT12_nolfp/M27/D23/OF1/M27D23OF1.nwb\n",
      "/Users/harryclark/Downloads/COHORT12_nolfp/M27/D24/OF1/M27D24OF1.nwb\n",
      "/Users/harryclark/Downloads/COHORT12_nolfp/M27/D26/OF1/M27D26OF1.nwb\n",
      "/Users/harryclark/Downloads/COHORT12_nolfp/M28/D16/OF1/M28D16OF1.nwb\n",
      "/Users/harryclark/Downloads/COHORT12_nolfp/M28/D17/OF1/M28D17OF1.nwb\n",
      "/Users/harryclark/Downloads/COHORT12_nolfp/M28/D18/OF1/M28D18OF1.nwb\n",
      "/Users/harryclark/Downloads/COHORT12_nolfp/M28/D19/OF1/M28D19OF1.nwb\n",
      "/Users/harryclark/Downloads/COHORT12_nolfp/M28/D20/OF1/M28D20OF1.nwb\n",
      "/Users/harryclark/Downloads/COHORT12_nolfp/M28/D21/OF1/M28D21OF1.nwb\n",
      "/Users/harryclark/Downloads/COHORT12_nolfp/M28/D22/OF1/M28D22OF1.nwb\n",
      "/Users/harryclark/Downloads/COHORT12_nolfp/M28/D23/OF1/M28D23OF1.nwb\n",
      "/Users/harryclark/Downloads/COHORT12_nolfp/M28/D25/OF1/M28D25OF1.nwb\n",
      "/Users/harryclark/Downloads/COHORT12_nolfp/M29/D16/OF1/M29D16OF1.nwb\n",
      "/Users/harryclark/Downloads/COHORT12_nolfp/M29/D17/OF1/M29D17OF1.nwb\n",
      "/Users/harryclark/Downloads/COHORT12_nolfp/M29/D18/OF1/M29D18OF1.nwb\n",
      "/Users/harryclark/Downloads/COHORT12_nolfp/M29/D19/OF1/M29D19OF1.nwb\n",
      "/Users/harryclark/Downloads/COHORT12_nolfp/M29/D20/OF1/M29D20OF1.nwb\n",
      "/Users/harryclark/Downloads/COHORT12_nolfp/M29/D21/OF1/M29D21OF1.nwb\n",
      "/Users/harryclark/Downloads/COHORT12_nolfp/M29/D22/OF1/M29D22OF1.nwb\n",
      "/Users/harryclark/Downloads/COHORT12_nolfp/M29/D23/OF1/M29D23OF1.nwb\n",
      "/Users/harryclark/Downloads/COHORT12_nolfp/M29/D25/OF1/M29D25OF1.nwb\n"
     ]
    }
   ],
   "source": [
    "# Load session\n",
    "sessions = {}\n",
    "for session_path in sorted(\n",
    "    list(args.storage.glob(f'*/*/{args.session_type}/*{args.session_type}.nwb'))\n",
    "):  \n",
    "    print(session_path)\n",
    "    args.mouse = int(session_path.parent.parent.parent.name[1:])\n",
    "    args.day = int(session_path.parent.parent.name[1:])\n",
    "    mouse_day = f'M{args.mouse}D{args.day}'\n",
    "    sessions[mouse_day] = (\n",
    "        *load_session(args),\n",
    "        pd.read_parquet(\n",
    "            session_path.parent / 'tuning_scores' / 'grid_score.parquet'\n",
    "        ),\n",
    "        pd.read_parquet(\n",
    "            session_path.parent / 'tuning_scores' / 'ellipse_grid_score.parquet'\n",
    "        ),\n",
    "        pd.read_parquet(\n",
    "            session_path.parent / 'tuning_scores' / 'theta_index.parquet'\n",
    "        ),\n",
    "        pd.read_parquet(\n",
    "            session_path.parent / 'tuning_scores' / 'spatial_information.parquet'\n",
    "        ),\n",
    "    )"
   ]
  },
  {
   "cell_type": "code",
   "execution_count": null,
   "metadata": {},
   "outputs": [
    {
     "name": "stdout",
     "output_type": "stream",
     "text": [
      "383 grid_cells\n",
      "371 egrid_cells\n",
      "1692 theta_cells\n",
      "8452 spatial_cells\n",
      "13861 total cells\n",
      "85 total sessions\n"
     ]
    }
   ],
   "source": [
    "ellipse_grid_scores = []\n",
    "grid_scores = []\n",
    "theta_indexes = []\n",
    "spatial_information_scores = []\n",
    "\n",
    "full_table = pd.DataFrame()\n",
    "\n",
    "grid_cells = 0; theta_cells = 0; spatial_cells = 0; egrid_cells= 0; total_cells=0\n",
    "for day_idx, (\n",
    "    day,\n",
    "    (session, session_path, clusters, grid_table, e_grid_table, theta_table, spatial_table),\n",
    ") in enumerate(sessions.items()):\n",
    "    score_table = pd.merge()\n",
    "    full_table = \n",
    "\n",
    "    grid_scores.append(grid_table['grid_score'].values)\n",
    "    ellipse_grid_scores.append(e_grid_table['grid_score'].values)\n",
    "    theta_indexes.append(theta_table['theta_index'].values) \n",
    "    spatial_information_scores.append(spatial_table['spatial_information'].values)\n",
    "    grid_cells+=np.sum(grid_table['sig']==True)\n",
    "    egrid_cells+=np.sum(e_grid_table['sig']==True)\n",
    "    theta_cells+=np.sum(theta_table['sig']==True)\n",
    "    spatial_cells+=np.sum(spatial_table['sig']==True)\n",
    "    total_cells+=len(spatial_table)\n",
    "print(f'{grid_cells} grid_cells')\n",
    "print(f'{egrid_cells} egrid_cells')\n",
    "print(f'{theta_cells} theta_cells')\n",
    "print(f'{spatial_cells} spatial_cells')\n",
    "print(f'{total_cells} total cells')\n",
    "print(f'{len(sessions)} total sessions')"
   ]
  },
  {
   "cell_type": "code",
   "execution_count": 54,
   "metadata": {},
   "outputs": [
    {
     "data": {
      "text/plain": [
       "Index    rate     num_spikes    firing_rate         presence_ratio    snr                 isi_violations_ratio    isi_violations_count    ...\n",
       "-------  -------  ------------  ------------------  ----------------  ------------------  ----------------------  ----------------------  -----\n",
       "2        0.79088  9732          2.1615330146515825  1.0               3.2063391127542227  0.2852247951639068      18                      ...\n",
       "10       0.84132  9411          2.0902370736627662  1.0               2.504748269483664   0.2372331968049335      14                      ...\n",
       "11       0.49489  28619         6.356444034763013   1.0               3.824846429349779   0.0659648476578994      36                      ...\n",
       "16       9.43298  21234         4.716193180549908   1.0               3.7793902239225994  0.089870904044953       27                      ...\n",
       "18       1.577    21393         4.751507992441565   1.0               2.58948833573775    0.2065932555600844      63                      ...\n",
       "19       0.31454  3540          0.7862543024934856  1.0               1.5187671555042794  0.3592805467777458      3                       ...\n",
       "20       0.57103  7216          1.6027149849697715  1.0               2.3407255112567995  0.374687561070865       13                      ...\n",
       "...      ...      ...           ...                 ...               ...                 ...                     ...                     ...\n",
       "548      4.18186  24473         5.435593656757931   1.0               1.7713173548558885  0.2405557736332491      96                      ...\n",
       "549      1.80446  9400          2.0877939105759222  1.0               1.810277725511949   0.2377887483023992      14                      ...\n",
       "550      1.72261  8300          1.8434776018915056  1.0               2.4258420024969727  0.1960673581071272      9                       ...\n",
       "552      8.91477  35872         7.9673769319339875  1.0               2.375397848381903   0.256584531762154       220                     ...\n",
       "553      6.21045  28601         6.3524461315299945  1.0               2.440865814098621   0.29538090202091        161                     ...\n",
       "554      3.03742  11033         2.450492576104697   1.0               1.9917383718307795  0.0863037717101737      7                       ...\n",
       "556      3.21967  10008         2.2228341975578543  1.0               6.149382737005535   0.0                     0                       ..."
      ]
     },
     "execution_count": 54,
     "metadata": {},
     "output_type": "execute_result"
    }
   ],
   "source": []
  },
  {
   "cell_type": "code",
   "execution_count": 53,
   "metadata": {},
   "outputs": [
    {
     "data": {
      "application/vnd.microsoft.datawrangler.viewer.v0+json": {
       "columns": [
        {
         "name": "index",
         "rawType": "int64",
         "type": "integer"
        },
        {
         "name": "cluster_id",
         "rawType": "int64",
         "type": "integer"
        },
        {
         "name": "grid_score",
         "rawType": "float64",
         "type": "float"
        },
        {
         "name": "null_distribution",
         "rawType": "object",
         "type": "unknown"
        },
        {
         "name": "type",
         "rawType": "object",
         "type": "string"
        },
        {
         "name": "sig",
         "rawType": "bool",
         "type": "boolean"
        }
       ],
       "conversionMethod": "pd.DataFrame",
       "ref": "ceedaf85-7b71-449a-ab8d-89540fa0308e",
       "rows": [
        [
         "0",
         "2",
         "-0.20668209922804204",
         "[-1.76796314e-01             nan             nan -2.46070045e-01\n -1.86831502e-01             nan             nan             nan\n             nan -5.27226160e-02             nan -1.60970630e-01\n -5.88676566e-01 -1.93591646e-01             nan  1.50633799e-01\n             nan -4.83456293e-01  4.30838782e-02 -1.37345943e-01\n  1.34044413e-01             nan -9.86209010e-02             nan\n             nan             nan -2.46997686e-01 -1.24028707e-01\n             nan             nan             nan  3.41077926e-01\n -1.61157497e-01  1.34171620e-01  7.01674791e-03             nan\n -5.64246333e-01 -1.99395588e-01 -1.45607577e-01             nan\n -4.34628760e-01             nan             nan -3.09492326e-01\n             nan -1.95929201e-01             nan -1.74156220e-01\n -2.42745873e-01             nan -4.16714381e-01 -3.44112508e-01\n -2.20354399e-01 -1.48137145e-01 -8.48429609e-02             nan\n -9.98564722e-02 -2.97258993e-04  3.24668502e-01  4.98038499e-02\n -6.14679645e-02  2.95282766e-01 -1.61753860e-01 -1.26163401e-01\n             nan  2.99693496e-02             nan -2.63849591e-01\n             nan  1.31977097e-01 -4.32525875e-02             nan\n -2.23104609e-01 -3.76212335e-01  1.72867571e-01 -3.75480343e-01\n             nan -5.49762741e-02 -2.11791342e-01 -7.71745830e-02\n -1.14313430e-01 -3.47402521e-02 -2.93377895e-02             nan\n             nan  1.76418558e-02 -3.70073856e-01 -1.27997988e-01\n -4.20265546e-01             nan             nan -5.03436597e-02\n -4.83953330e-01 -3.36049002e-01  3.02903733e-01 -2.11854202e-01\n -8.34070263e-02             nan             nan  1.64531990e-01\n             nan  2.70640175e-01 -4.07831504e-01  4.45967980e-01\n             nan -1.99333160e-01             nan             nan\n  9.05107597e-02             nan             nan  2.13748841e-01\n             nan -8.55617060e-02             nan -2.81777071e-01\n             nan -1.52599544e-01 -3.80144787e-01             nan\n -2.69895678e-01 -2.40741208e-01  1.85509862e-01             nan\n  4.01919682e-01             nan  2.71819981e-03 -5.26353651e-01\n -2.69280969e-01  4.80985547e-02 -3.85279920e-02  2.56464611e-02\n  5.31099547e-02 -7.63980706e-02             nan             nan\n             nan  1.57186060e-01 -2.38265914e-01  2.30736851e-01\n -3.05718253e-02  3.96906782e-01 -2.46905439e-01 -1.63816854e-01\n -3.03909365e-01 -3.55572665e-01  2.15480888e-02             nan\n -1.07048619e-01 -3.53023116e-01             nan  1.22636391e-01\n             nan  7.26109443e-03             nan -1.57931268e-01\n -1.99354869e-01 -1.18790841e-01 -1.38693659e-01  2.65941775e-02\n  1.58876875e-01             nan -2.44956719e-01 -2.02707926e-01\n -1.69270609e-01             nan -3.64728808e-01 -7.48487042e-02\n  3.49180202e-01  2.17067008e-02 -3.44621031e-01 -2.13774432e-01\n             nan             nan -1.32432614e-01             nan\n  2.23857805e-01             nan -1.17086823e-01  1.57985673e-01\n -2.73187357e-01 -2.33363519e-02 -1.82503934e-01 -2.47652401e-01\n             nan -1.46253926e-01 -3.22762725e-02  2.00285021e-01\n             nan  2.32222865e-01             nan             nan\n -4.64696098e-01             nan -1.17933819e-02 -7.70083493e-02\n             nan -2.37929274e-01             nan -5.33838786e-01]",
         "grid_score",
         "False"
        ],
        [
         "1",
         "10",
         null,
         "[            nan -4.58213129e-02 -2.68159867e-02 -3.12934013e-01\n -3.60618875e-01 -5.30595689e-01             nan             nan\n  5.91387751e-01 -1.07693178e+00             nan             nan\n -1.91592623e-01             nan -1.24046819e-01  9.07376527e-02\n -1.38047166e-01  1.34898070e-01             nan  4.27920230e-01\n             nan             nan -5.16812932e-02  1.34290987e-01\n             nan -3.83038870e-01             nan -4.13428236e-02\n -1.30907912e-01             nan             nan             nan\n             nan -1.06521126e-01             nan -2.82490445e-01\n             nan             nan             nan             nan\n             nan             nan  8.31314497e-02             nan\n  1.42952413e-02 -1.96266750e-02 -3.90696986e-01 -1.25169641e-01\n -3.17817317e-01  5.75248467e-01 -1.38259690e-01 -4.88399147e-02\n  8.03382366e-02             nan             nan  9.26578661e-02\n             nan -2.07001531e-01  1.90394860e-01             nan\n             nan  1.61274686e-02  1.93340822e-01 -1.60451065e-01\n -4.16463004e-02 -1.70064383e-01             nan             nan\n  9.03447630e-01 -1.58721743e-02 -5.53589232e-01 -2.31441339e-01\n             nan             nan             nan -1.09178215e-01\n             nan -2.46265563e-01 -1.59223321e-01             nan\n -7.83645685e-02 -4.74281665e-01             nan  2.75349174e-01\n             nan -8.54614338e-02 -9.71969736e-02             nan\n -3.29909954e-01 -2.56620079e-01             nan  2.84983142e-01\n             nan  2.90203908e-01 -2.54191489e-01             nan\n  7.64773527e-01             nan -1.06882713e-01  1.13807735e-01\n -5.50514709e-01             nan -3.87294251e-02  1.85881641e-01\n -1.68144767e-01             nan             nan -2.10787719e-01\n             nan -9.09769568e-02 -1.53051780e-01 -1.61767316e-01\n             nan -4.99135605e-01 -1.38105815e-01             nan\n             nan -1.89524468e-01  1.03829044e-01 -1.50575504e-01\n  1.17091364e-01  1.54589632e-01 -5.76441014e-02  2.57737386e-01\n -1.83842029e-01 -1.63466855e-01 -8.48422330e-02             nan\n -3.79905001e-01  1.71437588e-01 -2.70141375e-01             nan\n  1.73697623e-01  8.79212315e-02 -2.08041795e-01 -4.58149193e-01\n             nan -1.29444769e-01             nan -6.46616797e-01\n             nan -2.01029254e-01 -8.65744435e-02             nan\n -2.28981180e-01 -7.23178498e-04 -2.60619288e-01 -6.33786073e-02\n             nan  8.71961817e-02 -2.31256999e-01 -1.33798701e-01\n  3.69815976e-01             nan -1.77506664e-01             nan\n             nan             nan             nan             nan\n             nan             nan -2.62384030e-01  7.42912198e-02\n -3.14273326e-01             nan -3.68050888e-02  1.68745133e-01\n             nan  2.45033014e-01             nan             nan\n             nan -3.67313293e-03  3.04542999e-01  3.25999616e-02\n -5.14817742e-01             nan  1.01332368e-01             nan\n -1.35548079e-01 -2.84257834e-01             nan             nan\n -2.28273180e-01             nan             nan -1.94678618e-01\n             nan -1.89321413e-01 -1.38413066e-01 -3.25412811e-01\n             nan  7.60461546e-02             nan             nan\n  1.91996262e-01  6.49262728e-02  4.74249396e-01 -1.49180577e-01]",
         "grid_score",
         "False"
        ],
        [
         "2",
         "11",
         "-0.13698520307933015",
         "[-0.13017961 -0.33556905 -0.36625321 -0.0239672          nan         nan\n         nan         nan -0.12363758         nan -0.23680054 -0.02256418\n -0.2050099  -0.1895377  -0.10888029         nan -0.35558925         nan\n -0.08680713         nan         nan  0.80822477 -0.12111452         nan\n -0.15063242 -0.26264914         nan         nan         nan         nan\n  0.18721578 -0.18958592 -0.19289213 -0.28446226 -0.76518616 -0.31234789\n         nan  0.23149824         nan         nan  0.21886411 -0.37623585\n -0.4947322  -0.62572429  0.04644833 -0.08707006 -0.06660167 -0.12479118\n  0.14517797 -0.34836159         nan         nan         nan  0.01335304\n -0.0782317          nan -0.11558785 -0.37674112 -0.38016704  0.00892258\n         nan -0.13201955 -0.19165946  0.12727194         nan         nan\n -0.20882689         nan -0.11846551  0.07524581         nan         nan\n  0.01315645 -0.16845787 -0.00927674         nan -0.08048159         nan\n  0.00574648  0.63384523 -0.51122462 -0.06400009 -0.24359565         nan\n         nan         nan -0.21958458 -0.08897759 -0.35715541 -0.06568676\n -0.40477788 -0.14634029         nan -0.25768477 -0.32478187         nan\n         nan  0.29756967         nan -0.28036777 -0.13401186         nan\n -0.05014399  0.01721885 -0.05963501  0.36241687 -0.40207104         nan\n  0.26411457         nan         nan -0.09697927 -0.06629889 -0.27395864\n -0.00865484 -0.06997479 -0.46014165  0.11291719 -0.25866765 -0.1481413\n -0.36650036         nan -0.13457478         nan         nan  0.29231562\n         nan -0.20620426  0.20232746         nan         nan -0.17439695\n -0.24205425         nan -0.14523616         nan         nan -0.07860305\n  0.03446687 -0.3634218          nan -0.51315216 -0.36056247 -0.22627493\n -0.19327737  0.29000012 -0.23379854  0.10955639         nan -0.06494939\n -0.02068021         nan  0.00099232         nan         nan -0.00188237\n -0.14011192  0.16607046         nan         nan         nan -0.51184515\n         nan         nan -0.40288391 -0.23680597 -0.27778778         nan\n -0.06950804 -0.22255949         nan         nan         nan  0.34501255\n         nan -0.34462234 -0.53843631         nan -0.1773007          nan\n         nan  0.02494475 -0.14094681 -0.40513373 -0.06607255         nan\n -0.24765155  0.06908103 -0.36916078 -0.15028216 -0.18416081         nan\n         nan  0.08404678         nan -0.26659294  0.15054586  0.03436054\n -0.4788868  -0.25622902]",
         "grid_score",
         "False"
        ],
        [
         "3",
         "16",
         "-0.0780533005451621",
         "[ 0.05160165  0.10580529 -0.38172074         nan -0.12640974 -0.33779002\n  0.01623181 -0.11483188         nan         nan         nan  0.04300287\n -0.08822079         nan  0.04977828 -0.55031759  0.25741172         nan\n         nan  0.28310977  0.11588148 -0.03213762         nan         nan\n         nan         nan         nan -0.18560886  0.1370987  -0.34379922\n  0.04758576  0.32450501  0.29547606  0.00819051  0.048369   -0.07037578\n         nan -0.22616724 -0.61462963 -0.0135758          nan -0.21880203\n -0.01763852 -0.34536815  0.18978804         nan         nan -0.25981779\n         nan -0.45094755 -0.26301674 -0.36167496 -0.58270329 -0.38616668\n         nan         nan         nan         nan         nan  0.28751724\n         nan         nan  0.27377521 -0.35075989 -0.25235576         nan\n         nan         nan -0.18732123 -0.1068786   0.59301667         nan\n -0.12148994         nan -0.21010625         nan         nan  0.45074429\n  0.03251271 -0.20820786         nan -0.47350329 -0.01185559 -0.3510883\n         nan         nan         nan         nan -0.26469365 -0.22355116\n         nan -0.63989766 -0.03931115         nan  0.06705932 -0.33478424\n  0.08763868         nan -0.05651955 -0.27292546         nan -0.48922999\n -0.14495914  0.01815461 -0.04406524         nan         nan         nan\n -0.13195177         nan  0.10283872 -0.18127548         nan         nan\n  0.28254521 -0.17957365  0.20303839 -0.0347575   0.75221324         nan\n -0.18240748 -0.11948085 -0.10440637 -0.18838114         nan         nan\n -0.29023658  0.01380111  0.03449539 -0.29962049 -0.19573364 -0.52095177\n -0.12580836         nan  0.55138681 -0.18273369         nan -0.08175357\n -0.38495968 -0.21167091 -0.14859005         nan -0.01421542 -0.30317571\n         nan -0.35325243         nan -0.17388647 -0.31392162 -0.18215849\n -0.24448514  0.14006792         nan -0.28004086  0.05716113  0.15930418\n         nan         nan -0.3126682          nan         nan         nan\n         nan -0.15105488  0.08692359         nan -0.02840011  0.01277865\n         nan -0.30809263  0.01748106 -0.10378827         nan -0.41979507\n -0.31721132         nan -0.10705746 -0.04173141         nan -0.20134521\n  0.10587568 -0.14016009         nan -0.16884211 -0.49472631         nan\n         nan  0.51700101  0.03644756         nan -0.03616717  0.65059827\n  0.27737686         nan         nan -0.05726401  0.05646594         nan\n  0.08990637  0.05439007]",
         "grid_score",
         "False"
        ],
        [
         "4",
         "18",
         null,
         "[ 4.57625966e-01  3.03337823e-02 -3.04939437e-01 -9.02992004e-01\n             nan             nan  4.56156577e-01             nan\n -5.34540236e-02  7.75996417e-03             nan -1.41213758e-01\n -1.75604142e-01 -9.84591113e-02  5.30331193e-02             nan\n -2.76622447e-01  2.48721894e-01 -2.84607621e-01             nan\n  1.20671924e-01 -2.43769913e-01  1.30310579e-02             nan\n -4.06381066e-01 -2.57877229e-01 -2.83328050e-01  1.03594348e-01\n -6.37062578e-01  1.54568929e-01             nan -1.20564082e-02\n -1.66343633e-02  5.71776423e-02  1.36383180e-01 -1.41045975e-01\n  5.62407406e-01 -1.52903505e-01             nan             nan\n             nan             nan -1.33669238e-01 -3.54002292e-01\n             nan             nan -1.84545622e-02             nan\n  3.68935137e-01             nan -9.82899128e-02 -2.43136405e-01\n             nan -4.54897887e-01             nan -1.03948124e-01\n -3.95660694e-01             nan             nan -6.94659189e-02\n -3.65277863e-01 -3.31065173e-01  1.27550361e-01             nan\n             nan             nan -1.04375144e-01             nan\n -9.25566001e-03  9.36398849e-04 -1.16243288e-01 -1.15782265e-01\n -9.28827565e-02 -3.10128110e-01             nan -4.04127615e-01\n  8.71231804e-02             nan  2.08647985e-01 -3.56739983e-01\n  5.33473718e-01 -1.01524497e+00 -1.11016285e-01 -2.04721071e-01\n             nan             nan -2.73289909e-01 -2.94517080e-01\n  2.33069373e-02  1.10735165e-02  1.33813422e-01             nan\n -1.53559328e-01             nan -2.41082956e-01             nan\n -2.49652384e-01  2.02590901e-01             nan  8.28270478e-02\n  1.58645432e-02  7.62728811e-02             nan             nan\n             nan -4.40419483e-01             nan             nan\n             nan -3.62931816e-01             nan             nan\n -3.68182819e-01 -7.79405856e-02             nan -1.10739094e-01\n -2.31861342e-01 -1.36292042e-01 -3.71709583e-01             nan\n -1.19023601e-01  1.33382584e-01             nan -1.32327373e-01\n -3.42366600e-01 -1.36452939e-01  2.85323652e-01  1.70148761e-01\n             nan             nan  2.64132526e-02  1.07477215e-01\n -1.13941207e-01             nan -7.06228569e-02  4.52796481e-02\n  2.48217447e-01 -1.88691657e-01 -5.77591939e-02             nan\n             nan -1.46912568e-01 -7.51531965e-02             nan\n             nan             nan             nan -1.85758686e-01\n             nan             nan             nan -4.11198239e-01\n -1.83227205e-01             nan             nan  3.65657942e-01\n -1.66283904e-01             nan             nan -3.15158587e-01\n             nan  2.26937012e-02 -1.25141225e-01             nan\n             nan             nan             nan             nan\n  8.04708942e-03 -7.63834396e-02 -6.68705360e-02             nan\n             nan             nan -2.62024422e-01             nan\n -2.40304521e-02             nan -7.36319702e-02 -2.01992949e-01\n -5.95455989e-02             nan -1.79349860e-01             nan\n  3.95100592e-01 -7.20067595e-02             nan -7.45643962e-02\n  1.13887570e-01             nan             nan  1.36240228e-01\n -2.16069851e-01             nan             nan -5.06873036e-02\n  1.39409979e-01             nan  1.22868047e-01  7.66189169e-02]",
         "grid_score",
         "False"
        ],
        [
         "5",
         "19",
         null,
         "[ 2.66843436e-02 -6.87257942e-01 -2.14270161e-01  2.47337177e-02\n -1.33906665e-01  1.11233657e-02 -1.84562732e-01             nan\n  8.96867692e-02 -5.56324991e-02             nan -9.18934095e-02\n  9.47743519e-03             nan  2.93224349e-01  1.49150206e-02\n -1.96090862e-01 -2.47161232e-01 -3.94720681e-01             nan\n  2.00398463e-02 -2.43814499e-02             nan             nan\n             nan  2.07179128e-01 -4.35460703e-01             nan\n -2.72500118e-01             nan -3.23653934e-01  8.26758992e-02\n -3.73104619e-01  2.18204292e-02             nan  5.09407343e-02\n             nan             nan             nan  2.43252979e-01\n             nan  8.58951245e-02 -7.25283576e-04 -3.05859047e-01\n -1.00687854e-01 -2.25243386e-01             nan             nan\n             nan -1.35488844e-01 -2.89287642e-01 -2.07989951e-01\n -2.52163570e-01             nan -1.42047976e-01  1.23350643e-01\n -2.80474395e-01             nan             nan -1.12538354e-01\n             nan             nan             nan -1.10889385e-01\n  1.47923117e-02 -4.70506053e-01  5.09090275e-01             nan\n             nan -1.39914648e-01 -4.74471705e-01             nan\n -2.91220344e-01 -2.21260672e-01             nan -2.59624331e-01\n             nan  1.80157989e-01             nan  8.62815565e-02\n -3.36947634e-01 -4.40175527e-03             nan -2.85384901e-01\n             nan  1.30151202e-01 -6.40467648e-02 -2.03270615e-01\n  6.96719615e-02             nan -1.83845034e-01             nan\n -4.23984916e-01 -1.10136643e-01 -3.32559226e-01  1.14327778e-01\n -7.46551935e-02             nan             nan  4.43686432e-01\n -1.53806628e-01 -1.77758489e-01  1.23033216e-01             nan\n             nan -2.52743991e-01             nan  2.57824265e-01\n             nan -6.76076855e-03 -2.30679137e-01  8.13065018e-02\n -2.95106281e-01  1.56891711e-01 -1.88265805e-01 -2.40836277e-01\n             nan  1.51194388e-01             nan             nan\n -1.28104410e+00 -3.11338725e-01             nan -1.03737861e-01\n             nan  3.11245396e-02 -7.36890565e-02 -2.66150084e-01\n             nan             nan             nan -3.38239162e-01\n             nan             nan -2.05286190e-01 -2.51332592e-01\n             nan -1.52437250e-01  4.46530544e-02 -1.72512932e-01\n  7.86251942e-02  6.18300070e-01  5.82574961e-02 -3.42827248e-01\n             nan  3.19668157e-01             nan -1.31590869e-01\n -3.56504178e-01             nan -3.63353880e-02 -6.11992162e-02\n             nan             nan  2.92823558e-01  2.28704753e-02\n             nan -4.43770045e-02  7.79660692e-02 -3.58725905e-01\n -3.52139196e-01             nan -2.31410915e-01 -1.63166359e-01\n             nan -9.49662561e-02  4.63839031e-01 -1.81939448e-01\n -1.52807214e-02             nan             nan             nan\n             nan -2.21436262e-01 -7.00545679e-02 -4.60839651e-01\n             nan -2.67042008e-01             nan -2.95154837e-02\n -3.76691613e-01 -3.25923157e-01             nan -1.13998534e-01\n             nan -2.17056371e-01 -8.54229434e-02  1.85145832e-01\n -6.14116169e-01  1.55969043e-03  5.39474082e-02  1.20376120e-01\n -3.90651448e-03             nan             nan             nan\n -2.32311492e-01             nan             nan             nan]",
         "grid_score",
         "False"
        ],
        [
         "6",
         "20",
         null,
         "[ 0.1485706   0.37684979  0.18743156 -0.16376272 -0.103162   -0.09961513\n         nan  0.01057511 -0.19356573         nan         nan         nan\n -0.23226146 -0.13836317  0.07486796  0.25783123 -0.30430639 -0.13159859\n -0.25691815         nan         nan -0.40874625         nan -0.17076477\n -0.14192368 -0.07458545 -0.04986696 -0.06030367 -0.40911354  0.28043088\n         nan -0.09733965 -0.17998413 -0.14380165  0.101256   -0.25390619\n         nan -0.1615779  -0.07646728  0.27430163 -0.16810168         nan\n -0.20582218         nan  0.07769877 -0.05333132 -0.33441201 -0.21419099\n  0.38138667 -0.24438889         nan -0.24030363  0.22443426         nan\n -0.06527949 -0.15188394 -0.62979132 -0.28614235         nan -0.21579025\n  0.04450205         nan  0.2894447  -0.54614404 -0.12903407 -0.18371808\n  0.26211937         nan         nan  0.18521857 -0.37532478 -0.07839429\n         nan  0.54963401 -0.25695703         nan         nan  0.10306812\n         nan         nan         nan         nan -0.19716406 -0.06795438\n -0.36766541         nan         nan         nan  0.01970636         nan\n         nan         nan  0.12691527  0.0341031          nan         nan\n         nan         nan -0.28862614         nan         nan         nan\n -0.20048064         nan         nan         nan -0.02550061 -0.40982987\n         nan -0.18823263 -0.38996387  0.0701989          nan  0.23668418\n -0.2135384          nan -0.14330952 -0.07743639 -0.2427901  -0.54506667\n         nan         nan -0.05949335 -0.03802408         nan  0.12544767\n  0.31383046         nan         nan  0.04775742 -0.21337132  0.01251802\n         nan         nan         nan -0.14735993         nan         nan\n         nan -0.16913777 -0.16656937         nan -0.2401745          nan\n -0.56161638 -0.07624984         nan -0.15582146 -0.05981421 -0.10644457\n -0.19095452  0.01033625 -0.05197873 -0.10775036 -0.26210511         nan\n -0.08399004 -0.10745014 -0.469636   -0.281611    0.13177336         nan\n         nan -0.11005303 -0.18137836         nan -0.19546792         nan\n         nan  0.13042986  0.64047576         nan         nan  0.1644401\n  0.14145552 -0.11913008         nan         nan  0.05215701 -0.04173579\n -0.1096225          nan  0.39841784  0.10705157 -0.28312408         nan\n -0.26922097         nan         nan -0.24154596         nan         nan\n -0.15701198  0.37869121         nan -0.25488536         nan -0.08002246\n         nan -0.22481463]",
         "grid_score",
         "False"
        ],
        [
         "7",
         "21",
         "-0.28864875603499507",
         "[ 0.15663175  0.00783527 -0.48408379 -0.18252819 -0.03701788 -0.07471719\n -0.36345531 -0.42123611         nan         nan -0.15081557         nan\n         nan  0.04911649 -0.20257352  0.02537416 -0.07983535  0.02147977\n -0.20525504 -0.03411605         nan -0.27835829 -0.49959989 -0.18928865\n -0.11379496 -0.10542468 -0.15884018 -0.21380745 -0.15417532 -0.01922368\n  0.19197704 -0.21248321 -0.02577376         nan -0.02146033 -0.21533033\n -0.09653704         nan  0.3875576  -0.20616896         nan -0.14213576\n         nan  0.02548388 -0.13007775         nan -0.25222091  0.04234912\n         nan         nan -0.0628005   0.44270708         nan         nan\n         nan  0.25496495  0.14496921  0.1223591  -0.09530818         nan\n -0.48982234         nan  0.61576351 -0.48896152  0.01197127 -0.16123311\n         nan         nan  0.08558346         nan         nan         nan\n -0.30372557  0.43970647         nan         nan         nan -0.31833451\n -0.07135907 -0.18603275         nan -0.38179811         nan -0.44323603\n         nan         nan -0.21074123         nan -0.32447506 -0.19038418\n         nan         nan  0.19847128 -0.0906394   0.07054425  0.16731473\n  0.27282414 -0.10603469 -0.38609546 -0.10638287 -0.27824721         nan\n -0.15594437  0.00292448  0.05638415 -0.29747397 -0.26545375         nan\n         nan -0.35763407 -0.19042882         nan -0.11364718 -0.02801129\n -0.16212249         nan  0.2074942  -0.29109129         nan         nan\n -0.1291329  -0.29181275 -0.07878199         nan         nan  0.13538856\n -0.21955954  0.00568227 -0.08690476  0.1694739          nan -0.1551864\n         nan -0.18432882 -0.18588001 -0.04231449         nan -0.0634926\n         nan  0.16469134  0.02557284 -0.34968571         nan -0.22592049\n         nan         nan -0.1357064  -0.23641164 -0.13315674  0.07270538\n         nan  0.0292779          nan -0.32437074         nan         nan\n -0.06204495  0.22021948         nan  0.03712883 -0.34298063 -0.53954896\n -0.24646409  0.19991293         nan         nan  0.67132868         nan\n  0.06278236 -0.41929177 -0.31132961 -0.36790187 -0.15323898         nan\n         nan -0.01733886         nan         nan  0.23815324         nan\n -0.15610766 -0.14819047         nan -0.01270582         nan -0.1359784\n -0.0687399          nan         nan -0.2914996          nan  0.17903625\n -0.28924635 -0.03137983 -0.36539064 -0.09576506 -0.18230063 -0.13346695\n -0.29315825  0.02519   ]",
         "grid_score",
         "False"
        ],
        [
         "8",
         "27",
         null,
         "[ 1.41954631e-01             nan             nan             nan\n  5.63771104e-02  2.07396979e-01             nan -9.73768021e-02\n -3.14771368e-01 -2.05495930e-01             nan             nan\n -1.89920064e-01 -7.29748437e-04             nan -1.71881152e-01\n -6.48372451e-03  2.83084214e-03 -3.37929759e-01             nan\n -4.06195003e-01 -6.29076899e-01 -1.63237594e-01             nan\n             nan -2.16833468e-01  1.20321111e-01             nan\n             nan  1.11419804e-01 -2.19237004e-01 -1.37182425e-01\n  4.35178611e-01             nan -8.66325933e-02             nan\n -5.48828523e-02 -2.30298071e-01             nan -2.59604674e-01\n -1.14818463e-01             nan -1.52589851e-02  1.06482239e-01\n -7.16778567e-03             nan             nan             nan\n             nan             nan -3.29740966e-01 -8.11492856e-01\n  4.89822251e-02  5.35055375e-03             nan  1.45319779e-01\n -8.17758066e-02 -4.06237114e-01 -1.64742668e-01  2.52387024e-02\n  9.36544921e-02 -1.06719132e-01  5.95839167e-01 -2.55916618e-02\n -2.74290185e-01  4.35500366e-01 -4.83797577e-01 -2.39734534e-01\n -3.63641328e-01             nan -4.55824115e-01 -3.66027101e-01\n             nan -1.01335001e-01 -3.33706958e-01 -4.68795440e-01\n -4.01388794e-01             nan -7.12914518e-01 -2.54090463e-01\n -6.55508714e-02 -1.06092433e-01 -3.65458749e-01  4.39118705e-02\n -2.86740649e-01 -2.89057821e-01 -1.91227043e-01             nan\n  2.63417976e-02 -1.68156784e-01             nan  6.82456302e-02\n             nan             nan             nan             nan\n  3.04974619e-01 -1.25138214e-01             nan  1.09446614e-02\n  2.22031977e-01  3.26728574e-01 -3.19346904e-01 -2.90544715e-01\n  4.06364503e-02 -4.69925012e-01             nan -1.17373330e-01\n -2.31613907e-01  3.07511417e-01  6.36828914e-02  3.41227889e-02\n -1.19112558e-01             nan             nan             nan\n             nan  1.57461972e-01 -1.17732130e-02             nan\n -1.37844141e-01             nan             nan  5.98157334e-02\n -3.49283401e-01 -1.98218427e-01             nan -1.95444083e-01\n -3.05600786e-01  2.59487133e-01             nan             nan\n  2.29204047e-01             nan             nan             nan\n             nan             nan -8.49351481e-02  6.66233767e-02\n             nan -1.07196921e-01             nan             nan\n             nan             nan -3.34022975e-01             nan\n             nan             nan             nan -2.45881834e-01\n             nan -6.48914580e-02             nan -9.34100430e-02\n             nan  2.36730782e-01  4.54790776e-01 -1.39420073e-01\n  6.07524687e-02 -5.88122844e-02             nan -5.73464023e-02\n  9.79145553e-02 -1.74960728e-01 -2.16199828e-01             nan\n -1.20938327e-01 -2.05741552e-01             nan  3.10542662e-02\n -3.09742291e-01             nan -4.04864221e-02 -9.06487356e-02\n -1.83850303e-02 -2.40049582e-01             nan -7.07413409e-02\n -1.52129571e-01  2.04340910e-01 -3.66237121e-01             nan\n -6.42023140e-03 -2.58887029e-01  1.76046649e-01             nan\n             nan -6.99010330e-02  4.60190499e-02 -2.09811526e-02\n -1.40596098e-01             nan             nan -1.42788497e-01\n             nan -5.44239157e-02             nan             nan]",
         "grid_score",
         "False"
        ],
        [
         "9",
         "28",
         null,
         "[        nan         nan -0.29415056         nan -0.03613677 -0.21880021\n         nan         nan  0.17195103 -0.03919041  0.0262596  -0.29415235\n -0.1925846          nan -0.06988601         nan         nan         nan\n         nan  0.1850778          nan -0.16718785 -0.28470251 -0.11810676\n -0.27492335 -0.26107671  0.2391157   0.04502585         nan -0.22219181\n         nan -0.33415045         nan         nan -0.04284732         nan\n -0.12424135         nan         nan -0.17840451         nan -0.17966396\n -0.32306246 -0.09101301         nan         nan         nan  0.27288233\n  0.0010395   0.34667651 -0.24227325 -0.24451703 -0.19581217  0.73506173\n         nan  0.42361304 -0.01061967         nan -0.0397172          nan\n  0.49940586 -0.14251875 -0.06493327  0.04707531 -0.28058394         nan\n -0.32028246         nan         nan         nan         nan -0.05502361\n -0.23143974  0.10334941         nan         nan -0.00172838 -0.34042222\n         nan -0.21479223         nan -0.04586901         nan         nan\n         nan -0.35597153         nan         nan         nan  0.10401362\n         nan -0.20148601         nan -0.08653038         nan  0.43165469\n         nan -0.18623247         nan         nan -0.32013153 -0.0384483\n         nan -0.11892594 -0.02750403         nan         nan         nan\n         nan -0.46602653 -0.31963104 -0.09065399         nan -0.00846909\n -0.45629497         nan         nan -0.26742199  0.06029507 -0.34872776\n         nan -0.09477791  0.06900549 -0.08395054         nan -0.1269884\n  0.00616908         nan -0.38819235  0.03115756  0.03552947 -0.47734624\n         nan         nan  0.19574231         nan -0.17559046         nan\n         nan -0.01394471 -0.12994544  0.20921878  0.01203108 -0.2518127\n  0.05725342 -0.15591977         nan         nan -0.23303774  0.15311602\n         nan         nan -0.38452098         nan         nan  0.20895222\n -0.55518338  0.09821232 -0.10819674  0.17168889 -0.23373915 -0.51764413\n -0.10792868 -0.2077798  -0.15736051         nan -0.13094644 -0.45096398\n -0.01729008         nan -0.27723564  0.26586217         nan -0.2389645\n         nan -0.0517083          nan -0.195419   -0.12634292 -0.19349555\n         nan  0.01799274  0.12455616         nan  0.5356288          nan\n         nan         nan -0.16430067 -0.06601826         nan -0.14596817\n -0.19056699         nan  0.21055473  0.27231009 -0.05012072 -0.00813401\n         nan -0.08672769]",
         "grid_score",
         "False"
        ],
        [
         "10",
         "29",
         null,
         "[        nan -0.22187342 -0.11134564 -0.41569574         nan         nan\n         nan -0.40852162 -0.22426269         nan  0.42209863 -0.37449645\n -0.13180362 -0.02090254         nan -0.24352345 -0.22512306 -0.03367216\n         nan         nan  0.04382656 -0.07019589 -0.01454343 -0.01248897\n -0.11317318         nan  0.0563458          nan         nan         nan\n         nan  0.28849549 -0.15171822 -0.18680301 -0.05462866 -0.22972212\n         nan -0.12734405  0.29740966         nan         nan  0.02168705\n         nan         nan -0.14111185         nan -0.17978088         nan\n         nan         nan -0.18090771         nan -0.65663072         nan\n         nan  0.11556368 -0.24005437         nan -0.17314074 -0.26219503\n  0.05245778         nan         nan         nan -0.11213351  0.17048986\n         nan         nan -0.06181507         nan -0.11886986 -0.41079769\n         nan -0.01121531 -0.04243771         nan         nan  0.07638048\n  0.18003276 -0.20203543         nan         nan         nan -0.07586107\n  0.269375   -0.17373847 -0.10831257 -1.02619354 -0.24068908 -0.30895738\n  0.25655951 -0.33856916 -0.31183713 -0.27590189  0.10772902         nan\n         nan  0.19652388  0.14244767         nan  0.11269358 -0.0830304\n  0.13965293 -0.01210068 -0.2998784   0.06585045         nan -0.10997921\n -0.28524178 -0.2636574          nan -0.11584765 -0.07643473         nan\n -0.21459437 -0.30699369         nan -0.07877583  0.39171558         nan\n         nan -0.36972175         nan         nan         nan -0.21211375\n -0.16824188 -0.02452904         nan  0.21752362  0.03396147 -0.08316658\n         nan -0.52770848         nan         nan  0.04272157         nan\n         nan  0.09801052         nan         nan         nan         nan\n         nan         nan  0.11309259  0.05176849 -0.25279807         nan\n         nan -0.29773223 -0.07923786         nan -0.01159878  0.21250567\n         nan -0.20238187  0.0469429   0.14422642  0.72226232         nan\n         nan         nan -0.18061173 -0.49384642 -0.13740681         nan\n  0.13481178 -0.45967911         nan         nan -0.16325393         nan\n  0.07143944 -0.10068112  0.08569604         nan -0.22283535 -0.22770337\n -0.37225557         nan  0.01007568 -0.29164795  0.07754248         nan\n         nan         nan -0.23130092         nan         nan -0.14211351\n         nan         nan         nan         nan         nan         nan\n         nan         nan]",
         "grid_score",
         "False"
        ],
        [
         "11",
         "35",
         "-0.017384537689539598",
         "[        nan  0.05997412  0.88284148  0.14114337 -0.19010852         nan\n  0.15461554         nan -0.05269876         nan         nan         nan\n  0.00169381         nan -0.22010361  0.01362783  0.095975           nan\n         nan  0.07452766  0.3021192  -0.2058425          nan  0.01968206\n  0.24860596         nan -0.06395805 -0.34474817         nan         nan\n  0.4748224  -0.04467019 -0.2961125   0.00672379  0.07473885 -0.19013162\n -0.21747012 -0.04025197         nan  0.04839231 -0.2319934          nan\n         nan         nan -0.19108982         nan  0.08762583         nan\n -0.03884377 -0.3370292  -0.47367468  0.47510069 -0.35450273  0.02542208\n -0.35041986 -0.0481377          nan  0.02549892  0.23179792         nan\n         nan         nan         nan         nan         nan         nan\n         nan  0.18795951         nan         nan         nan -0.30451998\n -0.33289638 -0.09272121 -0.17038608 -0.0873443          nan         nan\n -0.16771455 -0.2906046  -0.02435752         nan -0.02091948  0.05014055\n         nan -0.06780069 -0.27481589         nan -0.19252466 -0.31508322\n  0.17515656  0.01942587 -0.04765604  0.08668848         nan -0.07587845\n -0.05916341  0.12769752  0.30830834  0.08594315         nan         nan\n         nan  0.4778941   0.03761118         nan -0.47236116 -0.19590865\n         nan         nan  0.31570242  0.21981368         nan -0.2262868\n -0.13924943 -0.17766282         nan         nan -0.19463093         nan\n -0.47150972  0.09490568  0.22034904 -0.24619185         nan -0.09413769\n         nan -0.02210532 -0.35058226         nan -0.16323602 -0.44981558\n -0.06604559         nan -0.30524548 -0.11213794         nan         nan\n  0.0028323   0.13475816         nan         nan -0.12477281 -0.21616076\n -0.42795429  0.05365403         nan -0.17408422 -0.0941633  -0.00225785\n  0.25489286 -0.00249498 -0.29136878         nan  0.01483789         nan\n -0.13610829  0.01328757         nan  0.01853513         nan         nan\n         nan  0.1697962          nan  0.7517132   0.07246185         nan\n         nan -0.14167819         nan         nan         nan         nan\n  0.2937643  -0.16102972  0.29571507 -0.1259325          nan         nan\n  0.19342136 -0.16224579 -0.24138893 -0.31902138  0.62346642 -0.24038642\n         nan         nan  0.05799874 -0.234436   -0.13580444         nan\n         nan -0.17703921 -0.97222576  0.51345371         nan         nan\n  0.70040168         nan]",
         "grid_score",
         "False"
        ],
        [
         "12",
         "36",
         null,
         "[        nan -0.38589155 -0.89617734         nan         nan -0.0039563\n         nan -0.49679315 -0.1061265   0.63221774 -0.3771745          nan\n  0.31630686         nan         nan -0.08895923 -0.438276   -0.18789907\n -0.2138658  -0.11855073 -0.03048604 -0.32182861         nan  0.07105856\n         nan  0.21047437  0.1312812          nan -0.07481132  0.08440691\n -0.05951503  0.33138762 -0.02476787         nan         nan -0.20433334\n -0.13749763         nan         nan  0.07231193 -0.25912263         nan\n -0.18870377         nan         nan         nan  0.32994237 -0.05171145\n -0.36522774         nan -0.10138273 -0.04744066 -0.11466304  0.72638918\n -0.51296658  0.05736086 -0.19678793  0.07760045         nan -0.05749314\n -0.28658518 -0.01335531 -0.04462766  0.16909274 -0.22759356  0.06472312\n  0.40350965  0.02815014 -0.02699976 -0.22431053         nan -0.08123203\n         nan -0.03825444         nan -0.15090618 -0.02264651  0.1134071\n  0.06479002         nan -0.38827893  0.64048429 -0.25087083         nan\n         nan -0.3818818          nan         nan -0.10844824  0.12956601\n         nan         nan         nan -0.00588516         nan         nan\n  0.04414415 -0.08071615  0.01328373 -0.16282544         nan  0.26088419\n -0.31046593 -0.3697786   0.79832953         nan         nan  0.22429534\n         nan  0.09244127 -1.44428582         nan -0.32387674 -0.28363119\n  0.01081404  0.11131121         nan         nan         nan -0.05314237\n         nan -0.10035089  0.0520689  -0.09515122  0.24901179         nan\n         nan  0.35315397 -0.07635783         nan         nan  0.49117477\n  0.62905438 -0.28473845 -0.34497423 -0.05321773         nan  0.24010438\n -0.18277479         nan         nan -0.22549449 -0.20946964 -0.03508703\n         nan -0.19865025  0.01255673 -0.15866116 -0.23452119 -0.14074516\n         nan         nan -0.10551189 -0.54009584 -0.18368557  0.58229901\n  0.38755576         nan -0.03001442 -0.1516178          nan         nan\n         nan -0.33230636         nan -0.25498664         nan -0.27402425\n -0.13942432         nan         nan         nan         nan  0.2455873\n -0.32788052  0.07255683  0.15353296 -0.127578           nan -0.19161378\n  0.0429234  -0.14886447         nan         nan  0.20365893 -0.12800025\n  0.06489207 -0.15453172         nan         nan  0.10227618 -0.35220407\n         nan         nan -0.40825995 -0.65829971         nan -0.10593295\n         nan -0.11958316]",
         "grid_score",
         "False"
        ],
        [
         "13",
         "39",
         null,
         "[        nan         nan -0.4050429          nan -0.92365727  0.26642413\n  0.08495901         nan  0.12031293         nan         nan -0.20600792\n -0.08099229         nan  0.01583092  0.3334415  -0.20530286  0.13072381\n         nan         nan -0.0481517   0.12658789 -0.0196736          nan\n -0.0523757  -0.30935248  0.02270299 -0.41600129         nan -0.2412965\n  0.71184872         nan -0.01351028 -0.55314538  0.18228701         nan\n  0.35146984         nan         nan -0.12438551 -0.05168254 -0.36329862\n  0.09736688 -0.61512515         nan  0.0843196   0.14340127 -0.22982705\n         nan -0.43472044         nan         nan -0.56384449         nan\n -0.44793916         nan         nan -0.00890578         nan  0.12121149\n -0.22306737         nan         nan         nan -0.28244827         nan\n -0.00663043         nan -0.05690435         nan         nan  0.1130582\n  0.01162876 -0.21524832         nan         nan         nan         nan\n -0.18287337 -0.25150632 -0.02702072  0.31231821 -0.14366323  0.33223272\n  0.01827999 -0.066254   -0.45004729 -0.29075088 -0.13718148         nan\n  0.12448847 -0.2519294  -0.46151303         nan         nan -0.13549502\n         nan -0.34242297 -0.38823306  0.12507281         nan         nan\n         nan -0.2329191          nan -0.18173116         nan -0.30738814\n         nan -0.14516698         nan -0.11399269 -0.31055691  0.18082342\n  0.03548096         nan  0.11991871         nan         nan         nan\n -0.28194308 -0.15934255 -0.18163669 -0.35322226         nan -0.02855824\n         nan         nan -0.18317137         nan  0.08765015 -0.39354213\n -0.35107157  0.08659879 -0.33679264 -0.11737033 -0.13567003 -0.00147008\n  0.21685869  0.01224315  0.08465276 -0.37205272 -0.30977739         nan\n         nan -0.08739658         nan -0.14348909 -0.29729019 -0.03729667\n  0.2358037   0.28321311  0.0701793  -0.46732388 -0.16539451 -0.21684493\n         nan         nan -0.15531665         nan -0.23013225  0.17091547\n  0.26844192         nan         nan  0.15844314         nan  0.05577303\n         nan -0.32776051 -0.2826908          nan         nan         nan\n -0.28642227         nan -0.26886305 -0.11322411         nan         nan\n -0.23073911 -0.34029119  0.0218731          nan -0.33209167 -0.03232818\n -0.72497429 -0.01404349  0.38613397 -0.14453477  0.02760361  0.15413008\n -0.00517123  0.98195596         nan         nan -0.44900859  0.0092871\n -0.26418543 -0.08901571]",
         "grid_score",
         "False"
        ],
        [
         "14",
         "40",
         null,
         "[-0.02547726         nan -0.23419015 -0.39508252  0.32436097 -0.05448458\n -0.06705208 -0.33682085  0.05416191 -0.33868469 -0.24383432 -0.22605166\n -0.30715077 -0.37318509 -0.37898869         nan  0.36503749 -0.46033282\n         nan         nan         nan -0.37508236 -0.13547073         nan\n         nan -0.0772385          nan         nan -0.34072272  0.20724207\n  0.19065688  0.02167641         nan -0.09142767         nan         nan\n         nan -0.59503985 -0.29421512         nan  0.23786987 -0.1530108\n -0.20151248 -0.05127356         nan -0.09232344 -0.12372567         nan\n         nan -0.34284524  0.30279897 -0.01864589  0.03221202 -0.45209897\n         nan  0.19218733 -0.55736368 -0.08510311         nan  0.81082467\n         nan -0.08854061  0.059613    0.03833636         nan -0.14226601\n         nan         nan         nan  0.02946305  0.0256535  -0.04899477\n         nan         nan         nan  0.21674665 -0.28043909  0.1721378\n  0.01236597         nan  0.39116132 -0.29278354 -0.11235375         nan\n         nan  0.16967642         nan -0.43590704         nan         nan\n         nan -0.08306575         nan -0.2851625          nan -0.21987106\n  0.1276152          nan         nan  0.36036595         nan -0.23881212\n         nan  0.07798959         nan         nan -0.27175723 -0.19420025\n         nan -0.17514689         nan         nan  0.07368737 -0.18410061\n -0.22581519         nan  0.12907407 -0.23126862         nan         nan\n         nan         nan -0.28352856  0.09261096  0.05634219         nan\n -0.1529212  -0.2237274  -0.08675437 -0.2448987  -0.35266308  0.14029733\n -0.1582825  -0.46517054         nan         nan -0.0335388   0.00351116\n  0.01462821  0.05848208         nan -0.16696279         nan -0.19189175\n -0.01783687 -0.08669774  0.31061713         nan         nan -0.09489277\n         nan         nan -0.11505752         nan         nan -0.17933263\n         nan -0.04019921  0.02180441  0.03038084         nan         nan\n         nan         nan         nan -0.4461221  -0.18445899         nan\n  0.19311645  0.28373813 -0.25193573 -0.01956011  0.10725703         nan\n -0.0668826   0.0758834   0.00822609 -0.40725746         nan -0.07317004\n  0.00956762  0.12608963         nan -0.15502804         nan -0.03184892\n         nan         nan -0.14240546 -0.0853133          nan -0.12284394\n         nan         nan         nan         nan         nan         nan\n -0.28968664 -0.26512247]",
         "grid_score",
         "False"
        ],
        [
         "15",
         "41",
         null,
         "[ 0.25498173 -0.19519763         nan -0.28531595         nan  0.55668521\n         nan  0.23553187         nan -0.50354909         nan         nan\n         nan -0.25828086  0.38125737  0.23179908  0.0881871  -0.11613221\n         nan         nan -0.09324326  0.02199546  0.64560838 -0.1752138\n -0.16077271 -0.24563129         nan -0.3606321   0.10368706         nan\n -0.3372494          nan         nan         nan -0.26001944 -0.34724544\n -0.23011764 -0.20941314 -0.01783487 -0.06645904         nan  0.10517243\n         nan         nan -0.27182793         nan -0.2347703  -0.49587777\n  0.03001446 -0.06511392         nan  0.26885701         nan  0.05898756\n         nan         nan -0.20239883         nan -0.02513508 -0.00759856\n -0.32672981         nan         nan         nan  0.21944637 -0.27030558\n -0.09222447  0.1554529   0.27570243  0.2646201   0.0712132  -0.45804489\n -0.05172592         nan         nan -0.10118043         nan -0.02860295\n -0.41062226         nan         nan  0.06175946         nan -0.1101975\n  0.41169129  0.20780918 -0.14164438 -0.57538179         nan  0.11292467\n  0.04794355         nan  0.17742053 -0.19305825 -0.19161426 -0.25819991\n  1.01463828         nan  0.18491002 -0.21769845         nan  0.16387334\n -0.00493011 -0.07745935 -0.12043502 -0.12609433 -0.00375241  0.16143076\n         nan -0.22043783 -0.1452653          nan -0.20098175 -0.16749802\n         nan         nan         nan -0.3731331   0.37290533  0.07779747\n -0.00915356 -0.07026296 -0.19931671 -0.20409018 -0.12709528  0.29065218\n         nan -0.11941608 -0.33532865  0.74606673         nan -0.03584115\n         nan  0.06122778 -0.06953774 -0.31927601 -0.07988623  0.43360388\n         nan  0.10047886  0.0092473          nan         nan -0.37835535\n         nan -0.01678715 -0.1808606  -0.43092014         nan -0.08294557\n  0.39499954         nan  0.50692648  0.27356996         nan -0.46681429\n         nan -0.14625631 -0.17416634 -0.20322259  0.01438097         nan\n         nan -0.15879429 -0.14737092         nan         nan -0.23061643\n -0.22094854 -0.34433246 -0.37996348  0.07988836         nan         nan\n -0.04322873 -0.00572768 -0.10853468 -0.12562305 -0.20430323 -0.32677071\n -0.12513046 -0.00245638         nan -0.04988883 -0.00799501 -0.17800268\n -0.03810326  0.01893549  0.12794435 -0.18466076 -0.35554146  0.02119314\n -0.18518559         nan         nan         nan  0.06288625 -0.07293094\n         nan -0.21297561]",
         "grid_score",
         "False"
        ],
        [
         "16",
         "42",
         null,
         "[-0.14825051 -0.40042442  0.02339128  0.00965876 -0.87203995         nan\n         nan         nan -0.15874197 -0.01527581         nan -0.13401013\n -0.4774397  -0.45107427  0.77954472         nan -0.20354304  0.52621197\n -0.58875221 -0.12418079         nan         nan -0.35811167 -0.05692379\n  0.4152992   0.04443149         nan         nan  0.05717241  0.61286048\n -0.22734355 -0.15722896         nan         nan         nan -0.1417314\n -0.42778607         nan -0.21019521         nan         nan -0.3958686\n  0.11216238 -0.24946939  0.38403568 -0.31403542  0.26203601         nan\n -0.4114807          nan         nan         nan -0.08024416         nan\n         nan  0.23243488 -0.29199934 -0.03115685  0.21542836 -0.1007762\n -0.21416878         nan         nan         nan         nan         nan\n -0.10388329 -0.16844682  0.20408954  0.32847386 -0.03817814         nan\n -0.22608405         nan         nan         nan  0.13220216         nan\n  0.17331223  0.00568583  0.05944874 -0.25960523 -0.21913795         nan\n -0.214849   -0.27631211 -0.15968258         nan -0.13468123         nan\n -0.17528534 -0.14787757 -0.18505768  0.07216472 -0.089392   -0.02551433\n         nan  0.18733529         nan  0.33265946         nan  0.05582346\n         nan         nan -0.1978093  -0.02565736         nan         nan\n         nan -0.08766392 -0.03481122 -0.52178526 -0.17428969 -0.27889029\n         nan         nan         nan -0.31819591         nan -0.29023884\n  0.2271293  -0.21748623 -0.03242438         nan         nan         nan\n -0.33197487         nan  0.27042552 -0.01790738  0.09937305         nan\n -0.1351954  -0.33889358         nan -0.19390818         nan  0.13727075\n         nan -0.05093299 -0.0110533          nan         nan  0.01867411\n         nan -0.19846508         nan -0.57763958 -0.01447054         nan\n  0.10889516  0.17713549         nan -0.01832729         nan  0.09540586\n         nan         nan -0.0720197  -0.26409724         nan -0.15983955\n         nan         nan -0.17928471 -0.36081083         nan         nan\n  0.04479295 -0.4450424  -0.03070258 -0.2246842          nan  0.0903564\n         nan -0.0842447  -0.15692595 -0.12442397 -0.18329043         nan\n         nan -0.33430408  0.29277011         nan -0.3901771  -0.12205218\n  0.07077783         nan         nan         nan  0.17250377 -0.14019934\n         nan -0.23796293         nan         nan -0.24688975 -0.06844508\n -0.02315227         nan]",
         "grid_score",
         "False"
        ],
        [
         "17",
         "44",
         "0.295474242376917",
         "[-0.30670235 -0.11230732 -0.30752988         nan  0.2927864   0.08737781\n         nan         nan         nan         nan         nan         nan\n         nan  0.1330247          nan         nan -0.13125515 -0.26365303\n         nan -0.01492622 -0.12797966         nan -0.71234432 -0.32966725\n  0.31270741 -0.18870712         nan -0.26513559 -0.25559484  0.34835248\n -0.04698842 -0.47777028 -0.50706053 -0.44159096         nan -0.44539171\n         nan         nan -0.08837938         nan -0.2426425  -0.16870252\n         nan  0.11561365 -0.57420624 -0.24818421 -0.29012953         nan\n         nan         nan         nan  0.07836848  0.13344425 -0.05876758\n -0.00809959         nan -0.71425812 -0.1398276  -0.17520365         nan\n         nan         nan  0.00367142 -0.15445326 -0.03286669         nan\n  0.00165232         nan  0.06298018         nan -0.05962364 -0.32773066\n -0.03667129  0.4094508  -0.61243911  0.05564904 -0.18537738 -0.36636817\n -0.40386932 -0.1693738          nan -0.04229111 -0.22858492 -0.26672466\n -0.33234567  0.42835567 -0.49903268         nan  0.27723185 -0.04020376\n -0.18879392  0.21262426         nan -0.11488555 -0.60460809 -0.15129209\n -0.32632632         nan         nan -0.37231579         nan         nan\n -0.45693572 -0.28445879         nan         nan -0.31718554         nan\n -0.1069623  -0.24663723         nan         nan -0.1030673  -0.0394922\n         nan -0.38389111 -0.39265794  0.15012336         nan         nan\n         nan -0.17840413         nan         nan -0.44071611 -0.09843795\n         nan -0.09512296 -0.09920665         nan -0.16329092         nan\n  0.15218299         nan         nan         nan  0.17352747         nan\n  0.33972614 -0.43742564  0.39993875 -0.31798271 -0.09328993         nan\n         nan -0.19466043         nan         nan -0.80706881         nan\n -0.18779491 -0.44980662         nan -0.1775585  -0.17670634 -0.14098053\n         nan  0.02101635         nan -0.1693863  -0.17251362  0.41312251\n         nan         nan -0.09682043         nan  0.06151736         nan\n -0.06160903         nan -0.15015732  0.1189736          nan -0.05520926\n  0.22236237  0.06336727 -0.13131296         nan -0.09389684 -0.11752619\n         nan         nan  0.09796564         nan         nan  0.07556168\n -0.27013149 -0.02914207 -0.27733958         nan -0.08426577         nan\n -0.36397813         nan         nan -0.51124865  0.45027902 -0.00388276\n  0.21556048 -0.27780354]",
         "grid_score",
         "True"
        ],
        [
         "18",
         "45",
         null,
         "[-0.13114955  0.0519515  -0.28491039 -0.43778214  0.04412529  0.00717476\n -0.17376639 -0.08945458         nan         nan         nan         nan\n         nan         nan  0.01172368 -0.31601117 -0.19087654         nan\n -0.1956787   0.14008555         nan -0.10536338  0.04065611         nan\n  0.19631648         nan  0.05195094 -0.13649298 -0.13085083         nan\n -0.22120692         nan -0.28200094 -0.10069848         nan -0.53161065\n         nan         nan         nan -0.23800803 -0.41764013         nan\n         nan         nan -0.01577755 -0.04523951 -0.01981361  0.05609335\n         nan -0.05307645  0.42572879 -0.27007203  0.02265198 -0.13427994\n         nan         nan         nan -0.4254909   0.17011344 -0.01079634\n -0.15022374 -0.61249849         nan         nan  0.5492087          nan\n         nan         nan         nan -0.20768465         nan  0.07415101\n         nan -0.27820505         nan -0.00841463         nan -0.14678705\n         nan         nan         nan         nan  0.17394278 -0.00476491\n -0.15114116         nan         nan         nan         nan  0.17522308\n -0.15840978  0.35056341 -0.11019184 -0.30753902 -0.26134496 -0.52704638\n  0.22659038         nan  0.07151636         nan -0.22980238 -0.12351191\n         nan         nan -0.05539758         nan         nan         nan\n         nan -0.4305405   0.45264999         nan         nan -0.44740294\n -0.10327021 -0.49084973         nan         nan         nan  0.42392706\n  0.12145513  0.17733448 -0.28616245         nan         nan         nan\n -0.06296773 -0.14706558         nan         nan         nan         nan\n  0.12629428         nan         nan -0.01401895 -0.22501823         nan\n         nan         nan         nan  0.18542029 -0.10153236         nan\n         nan         nan -0.16432642 -0.17722693         nan         nan\n -0.284516           nan -0.22336953 -0.32503986 -0.40116593  0.16724217\n         nan         nan  0.01526356 -0.26685504 -0.25510041         nan\n -0.08611253 -0.11871057         nan         nan -0.01365915  0.00384042\n         nan -0.30836086 -0.10952005         nan  0.15222444 -0.34383871\n         nan         nan         nan -0.02723659  0.03859985  0.07705278\n         nan         nan -0.1582281          nan  0.17495226         nan\n         nan         nan -0.20155297         nan -0.26327166         nan\n -0.12444401         nan  0.09411654  0.12808334         nan -0.03920742\n         nan -0.22703169]",
         "grid_score",
         "False"
        ],
        [
         "19",
         "47",
         "-0.09277581224674453",
         "[-4.65686846e-04 -1.63789602e-01 -1.12326548e-02 -8.02503639e-03\n  2.02160281e-01  1.55538314e-01 -1.50931114e-01  1.04769920e-01\n  4.55518435e-01  6.33422057e-02 -2.33839226e-01 -1.16181353e-01\n             nan             nan -4.33659630e-01             nan\n  3.93780791e-02 -1.64516972e-01             nan             nan\n -2.81689110e-01 -5.00060131e-01 -1.11623534e-01             nan\n             nan             nan -2.27184507e-01  2.30632193e-01\n -1.29924949e-01  1.53736147e-01             nan             nan\n -5.91150042e-01             nan             nan             nan\n             nan             nan -3.52796934e-01 -3.25595995e-01\n -3.62968539e-01             nan  1.83034170e-01 -1.26274174e-01\n  7.85544593e-01             nan             nan -1.65949039e-01\n -9.83875900e-02 -2.64311014e-01             nan             nan\n             nan -5.29268639e-01             nan  1.93364364e-01\n             nan -1.46641346e-01 -7.13143117e-02  1.63440398e-01\n -2.50421624e-01 -2.64064543e-01             nan -2.45082588e-01\n             nan -5.59744878e-01 -1.63430445e-01 -2.07830346e-01\n             nan             nan -4.03951519e-01  2.24848197e-01\n             nan -2.21811178e-02  1.89741840e-01 -2.56784718e-01\n             nan             nan -5.15851611e-02             nan\n -6.64755443e-02             nan             nan             nan\n             nan -3.06189882e-01  3.81034111e-01  2.45313514e-01\n -1.23510585e-02 -2.73044294e-01 -2.83824979e-02             nan\n             nan -3.01962862e-01             nan             nan\n -7.15304873e-02 -1.05842503e-01             nan -4.01089821e-02\n             nan -2.04583495e-01             nan -2.04664036e-01\n             nan  3.43286091e-01 -1.28815166e-01             nan\n -3.05490198e-01 -2.74509540e-01             nan  4.37762486e-02\n  1.26153780e-01 -6.15857643e-01 -1.99723864e-01             nan\n -1.35189755e+00 -2.60456012e-01 -2.56842645e-01             nan\n -6.95615538e-02             nan             nan             nan\n  2.00300842e-01  2.68717383e-01 -9.33834042e-02 -1.47990008e-01\n -2.12202594e-01             nan  5.08840218e-01 -6.92856705e-01\n  4.10461604e-01 -1.41688706e-01             nan  1.94369031e-01\n -4.59026704e-01             nan -1.79950337e-01             nan\n             nan -5.97837757e-02             nan             nan\n  9.05756920e-02 -2.58213157e-01  3.63929375e-01             nan\n -8.56673152e-02 -1.68485817e-01 -4.37694231e-01  1.42788257e-02\n             nan             nan -1.62483535e-01 -3.59264870e-01\n -1.49969482e-01  3.86776565e-01 -2.36117602e-01             nan\n -2.64358571e-01             nan -3.26576557e-01             nan\n -2.34903292e-02  1.97292338e-01 -2.51198067e-01 -3.82658475e-01\n             nan  2.14473024e-01             nan -1.74137746e-01\n -3.58009101e-01             nan -3.69693333e-01             nan\n -4.58160120e-01 -3.00026029e-01 -3.23509082e-01             nan\n  3.28183081e-01  1.24189411e-01             nan -1.24405255e-01\n             nan -2.47133574e-01 -1.44775187e-01             nan\n -3.09646641e-01             nan -1.17345190e-01             nan\n -9.38742727e-02 -1.65856813e-01 -2.81161569e-01 -1.10524935e-01\n             nan             nan -2.51606755e-01             nan]",
         "grid_score",
         "False"
        ],
        [
         "20",
         "50",
         "-0.1011391660718976",
         "[        nan         nan         nan -0.04277351 -0.05780199 -0.30180926\n         nan -0.09059995         nan -0.37462659         nan         nan\n -0.09778963         nan -0.20646392 -0.27903722         nan         nan\n -0.13804432 -0.4656208          nan         nan -0.0541032          nan\n -0.67901957 -0.38623261  0.31480313 -0.51692651         nan         nan\n -0.11607878  0.12370224  0.32708235 -0.11342491         nan         nan\n         nan         nan -0.05308329         nan         nan -0.3276696\n  0.12404832 -0.0769984   0.33939405 -0.27512262  0.14495517  0.30541291\n  0.07505912 -0.23171058         nan         nan -0.06396645  0.06359058\n  0.01824681 -0.26766095 -0.02916538 -0.20511074 -0.1064016          nan\n -0.17305654         nan         nan         nan         nan  0.05635273\n  0.0718155  -0.15182411 -0.15738006         nan         nan -0.42079726\n         nan -0.32649425         nan -0.18084333 -0.19569571         nan\n         nan -0.23115301         nan -0.05181967 -0.21712552 -0.11451843\n  0.14871188  0.05466646 -0.05884827         nan         nan -0.17684369\n         nan -0.22393492         nan -0.22952346  0.48292202         nan\n -0.20026575  0.13440619 -0.01817504         nan -0.45694079 -0.05629242\n -0.02429596         nan -0.01541529         nan         nan -0.32858149\n         nan         nan -0.15275776 -0.2661558          nan -0.45753108\n  0.26181918         nan         nan -0.04084424 -0.22231037 -0.19747354\n -0.34425761         nan         nan         nan -0.07372298  0.23529338\n         nan  0.07616159         nan -0.17475683 -0.16556007 -0.34518471\n         nan         nan -0.14399684 -0.20381747  0.16012736         nan\n -0.14859071         nan -0.18727637         nan         nan         nan\n -0.23904502 -0.05060171 -0.46385363  0.05228091         nan         nan\n -0.23191393 -0.56407116 -0.08974537  0.03158802  0.05667338         nan\n -0.17404828         nan         nan  0.3645844          nan  0.01426435\n -0.00183966         nan  0.65839036  0.55440716 -0.37416388         nan\n -0.00801385 -0.0368548          nan  0.29627611 -0.45772411 -0.02269094\n  0.3255687   0.19188458 -0.22215968         nan         nan         nan\n -0.24175834         nan -0.24381004 -0.46568745 -0.19301316  0.19216271\n -0.10650706  0.10450687         nan         nan         nan -0.19859304\n -0.05231838         nan         nan         nan  0.35672854         nan\n         nan         nan]",
         "grid_score",
         "False"
        ],
        [
         "21",
         "51",
         "-0.07389780606806651",
         "[-3.88989694e-01             nan -4.50392501e-01  7.98941782e-01\n             nan             nan             nan             nan\n  3.10435138e-01 -3.17835145e-01 -3.08617242e-01 -1.05867510e-01\n             nan -3.06930317e-01 -5.02007341e-01  1.10166719e-01\n -5.02190898e-03             nan -3.72192374e-01             nan\n  8.95555205e-02             nan -1.24922009e+00             nan\n  5.81463919e-02             nan -3.33882243e-01 -1.26901006e-01\n             nan  1.48947966e-01 -3.74587582e-01             nan\n             nan             nan -2.87399476e-01 -3.02910557e-01\n             nan -1.89091803e-02  9.74368232e-01             nan\n             nan -1.01643566e-01             nan -2.22884876e-01\n             nan  1.23645392e-01             nan             nan\n             nan -2.22752162e-01 -3.67286766e-01             nan\n -1.23082376e-01             nan             nan -3.72055070e-01\n -4.29196504e-01  1.08752465e-02             nan -5.61749004e-01\n             nan -7.20954929e-02             nan -2.56023860e-01\n             nan             nan             nan             nan\n             nan  1.41541195e-01             nan -3.25526345e-01\n             nan             nan -2.13012000e-01 -1.66473447e-02\n             nan -3.93989213e-01 -4.27826044e-01 -6.16389753e-02\n             nan -1.43145816e-01 -4.95223984e-02             nan\n             nan -5.10384015e-01 -4.15525332e-01             nan\n -6.70420743e-02 -1.83328561e-01             nan             nan\n -2.84077924e-01  7.76436790e-03             nan             nan\n -2.37566228e-01             nan -1.82899490e-01 -1.94640517e-02\n             nan -2.14175090e-01 -1.59701148e-02 -1.04837130e-01\n -8.66580396e-02  6.79526243e-02 -6.14871539e-01             nan\n -1.63407127e-01 -2.19106261e-02             nan -3.17088081e-02\n             nan  3.32270313e-01             nan -1.87203789e-01\n             nan -2.57460048e-01             nan             nan\n -1.34512371e-01  3.81510593e-01  3.55012317e-04  2.18625242e-01\n             nan -1.85174822e-01  7.32174599e-02             nan\n -3.61525256e-01  3.54606047e-01  1.46504831e-01             nan\n -3.36704957e-01 -2.42351770e-01  2.96132461e-02             nan\n -2.44205250e-01             nan  2.24227885e-02             nan\n -4.85767373e-02             nan  2.01680305e-01             nan\n -3.75174226e-01             nan -1.59508976e-01 -1.77878000e-01\n -2.05045529e-01             nan             nan -3.75425475e-02\n  4.36014137e-02 -3.52982871e-02 -3.08540757e-01 -2.71450435e-01\n  4.21649152e-01 -4.14837951e-01  8.85483581e-02 -2.44221187e-01\n             nan -5.58242173e-01 -4.86539776e-01 -2.57820381e-01\n -3.23049982e-01  1.14128834e-02 -2.93120553e-01             nan\n  1.97731809e-01 -6.14396262e-02 -9.51159279e-02             nan\n  1.24973468e-02             nan -4.24967793e-01             nan\n -1.93184659e-01 -3.19982560e-01 -2.20792657e-01 -1.81904639e-01\n -1.39954569e-01 -3.04808037e-01             nan             nan\n -2.87688666e-01  2.38103938e-02  2.31879455e-01  2.77741860e-01\n             nan -3.28836098e-02 -1.82027955e-01 -3.30636634e-01\n  4.44766157e-02  5.13739325e-01 -1.34926762e-01 -1.96369476e-01\n -3.78509089e-02 -3.75785730e-01  2.68268537e-01 -4.33445326e-01]",
         "grid_score",
         "False"
        ],
        [
         "22",
         "52",
         "0.2050568259754638",
         "[-2.59052171e-01             nan -2.93604947e-01 -3.82218544e-01\n             nan             nan -4.11239298e-01 -1.88183655e-01\n -1.50608969e-02             nan -1.95758016e-01 -1.29988200e-01\n             nan -4.12511907e-01 -2.09256466e-01 -2.46136489e-01\n -9.84234071e-02 -3.44931571e-01             nan  3.28893683e-01\n -1.44648176e-01             nan             nan             nan\n  1.14607683e-01  1.33012804e-01             nan             nan\n -1.65758970e-01             nan  1.48644163e-02 -1.52803940e-01\n -4.60611603e-01 -2.09271570e-01 -2.67701021e-01 -9.38901256e-02\n -1.88652958e-02 -6.45728222e-02 -1.33875130e-01 -4.34890944e-01\n  2.09955793e-02  4.92661894e-01             nan -3.64209839e-01\n -3.82434748e-01  5.98219740e-02 -1.43243830e-01 -1.42488933e-01\n             nan  2.10217283e-01             nan  1.70665385e-02\n             nan  1.30274926e-01  1.41347411e-01  3.89250939e-02\n -6.23912680e-02 -4.57855507e-01  1.07652812e-01  1.03339622e-01\n -1.43026366e-01 -2.52314239e-01 -3.14777358e-02             nan\n -2.72651889e-02 -2.79409948e-04             nan -3.45047219e-01\n             nan -8.04555797e-02             nan -4.82427914e-01\n             nan  6.04664815e-01 -1.73951004e-01  6.24662620e-02\n             nan  6.27889465e-02             nan  8.27988160e-02\n             nan -4.14143568e-02             nan  1.84690298e-02\n -1.99938571e-01             nan -1.91780292e-01 -9.64532290e-02\n -1.07895243e-01             nan             nan             nan\n -1.97688658e-01             nan  8.66320691e-02 -2.11086294e-01\n -1.82166566e-01  1.15405555e-02 -2.17800249e-01 -1.89424607e-01\n  8.48160400e-02             nan -1.84533819e-01 -1.58619835e-01\n -5.57897159e-01  3.68608752e-01 -1.25403733e-01 -4.42045763e-02\n             nan  1.18633325e-01  1.24766925e-01             nan\n  2.60671368e-01             nan  2.30366374e-01             nan\n             nan -2.35688469e-01  2.75492307e-01 -4.95925680e-02\n -6.56551810e-04             nan             nan -3.60683251e-01\n -1.93887685e-01             nan             nan -3.21313030e-01\n -2.26166445e-01             nan -2.97773445e-01             nan\n             nan             nan -3.10840087e-01 -3.46282196e-01\n -7.87529009e-02             nan             nan -4.05650882e-01\n -4.58748254e-01  2.66002285e-01             nan -1.77247864e-01\n             nan  5.50779686e-02 -2.09587142e-01  2.70177520e-01\n  8.93938777e-02  6.15657258e-01             nan -4.49996277e-01\n -1.86523136e-01 -8.84414935e-02 -1.77394489e-01 -1.94517400e-01\n -1.14856397e-01             nan -2.53046216e-01  1.60887836e-01\n -1.83317283e-01  1.95284606e-01             nan  1.91330443e-01\n -2.19730811e-02 -8.14378174e-02 -3.99332730e-01 -1.56942155e-01\n             nan -5.84763087e-02  1.84529490e-01 -9.15051121e-02\n  1.73534037e-01 -7.06523265e-01 -1.18778448e-01  1.50954742e-02\n -1.24114316e-01             nan -1.03686539e-01  4.64165372e-01\n  1.82567654e-01  2.17850508e-01 -6.67851866e-02             nan\n -3.13277448e-01 -1.58838917e-01  3.31973923e-01             nan\n  3.60140825e-02             nan             nan             nan\n -1.84280542e-01             nan -8.22839695e-02             nan\n -1.13334783e-01  1.40658790e-01 -1.33271347e-01 -3.26544961e-01]",
         "grid_score",
         "False"
        ],
        [
         "23",
         "61",
         "-0.24753134514665404",
         "[        nan -0.14683933 -0.12755147 -0.02618289         nan         nan\n -0.21637271         nan         nan -0.01122694         nan         nan\n         nan  0.144457           nan         nan         nan         nan\n         nan         nan         nan -0.25548315 -0.2055614          nan\n -0.10068204         nan  0.35921319         nan         nan  0.07397015\n -0.04403355 -0.48951656         nan -0.43376881         nan -0.07553484\n  0.12453315  0.07781117         nan  0.17487661         nan         nan\n         nan -0.4076725          nan -0.35137115 -0.06972028 -0.15100237\n -0.14179081 -0.02000311  0.28032299         nan         nan -0.0384647\n  0.06577939         nan         nan         nan  0.1141848   0.18090127\n -0.04074386         nan -0.01887272 -0.43119143         nan -0.15009839\n -0.03045302 -0.33788004         nan -0.31762359 -0.14861854  0.25621156\n         nan  0.1167345          nan  0.60292069 -0.27978211         nan\n -0.03746311 -0.26315068 -0.12856299         nan -0.4500945          nan\n -0.30095517         nan         nan -0.15302837  0.06606906  0.11191988\n -0.25759466  0.11084306 -0.02298557         nan         nan -0.19802574\n -0.1303657          nan -0.01874144  0.15158304 -0.03333501         nan\n         nan -0.02500965 -0.08614168 -0.09934065         nan         nan\n -0.11362977 -0.28690445  0.11039353         nan         nan -0.15677642\n -0.33331047  0.18719367 -0.11577264 -0.04431891  0.01461438 -0.09937702\n -0.37802221 -0.1204533          nan  0.52612806 -0.21660281  0.06070705\n -0.14102737         nan  0.09514131  0.15769608         nan  0.0213621\n         nan         nan -0.17537167 -0.41610713 -0.17478624         nan\n  0.13143758         nan  0.04199594 -0.3349623  -0.81073754         nan\n -0.2432361   0.18503574  0.65024945         nan -0.17107474 -0.09482167\n  0.39008917 -0.21379709 -0.04873435         nan -0.07374529 -0.16232928\n -0.13920078         nan -0.32636224         nan         nan -0.1984073\n -0.57860365         nan -0.07917165         nan -0.09424708 -0.40862493\n         nan         nan -0.07081404 -0.21741282         nan         nan\n -0.1017509          nan -0.8070864  -0.21376514 -0.09119926  0.16313154\n         nan         nan  0.03130858 -0.29807438         nan -0.26282112\n -0.14397729 -0.18113256 -0.37823718  0.15247102         nan  0.01415933\n -0.31545644 -0.17254982 -0.33529456 -0.06263622  0.35802389 -0.23087919\n -0.1258216  -0.09010618]",
         "grid_score",
         "False"
        ],
        [
         "24",
         "62",
         null,
         "[-2.65064044e-01             nan             nan -5.53741485e-01\n -1.39406697e-01             nan -1.63346711e-01             nan\n -1.57289784e-01 -2.34333172e-01             nan -1.61656761e-01\n             nan             nan -7.05107423e-02 -2.38177585e-01\n -1.23138639e-01             nan  3.41766291e-01  4.28674218e-02\n -1.09819786e-01             nan  1.37971828e-01 -1.15976918e-01\n             nan  3.16728186e-01 -3.82797787e-01 -2.72572142e-01\n             nan             nan             nan             nan\n  3.95343583e-01 -2.02937058e-01             nan             nan\n             nan  3.24799733e-01             nan             nan\n  1.16929471e-01             nan -3.91711597e-02 -2.48838217e-01\n             nan  5.19827883e-04 -3.06565284e-02 -2.67166701e-01\n -1.42586474e-01 -5.02528789e-01 -5.00679431e-01             nan\n  3.77005074e-02             nan  3.09501276e-01 -6.13850577e-01\n             nan -1.06146712e-01             nan -1.50569209e-01\n             nan  2.81999673e-02 -6.14468878e-02  4.42889359e-02\n -3.79486588e-01 -1.26085225e-01             nan -2.82532683e-02\n -1.37262931e-01 -9.13424266e-02             nan             nan\n             nan -9.46381350e-02 -1.15590671e-01  8.29330110e-02\n             nan             nan -5.18413049e-01 -1.70430175e-01\n -2.80232688e-01 -5.04747002e-01  5.34131216e-02             nan\n             nan  2.66884717e-02  8.43984245e-01 -3.68753551e-01\n -9.74627899e-02 -2.15426575e-01             nan  6.23240911e-01\n  1.19152257e-01             nan             nan  1.24780912e-02\n -2.35803367e-01 -4.99482075e-02             nan -1.81858339e-01\n -2.69201215e-02             nan -3.88450142e-02  4.68781075e-01\n -1.35992361e-03             nan  3.48636276e-01  3.59516956e-02\n             nan -2.44098078e-01             nan  5.79521885e-02\n  1.50068345e-01 -1.95661452e-01             nan             nan\n  1.01349163e-03             nan -3.76910615e-01             nan\n -1.81772650e-01             nan  3.94373467e-01 -6.78135946e-02\n             nan -1.47988181e-01 -2.39219738e-01             nan\n -1.90187490e-01             nan -2.04041990e-01             nan\n -3.70039538e-01 -2.34262760e-01             nan  9.54694127e-02\n  1.08199902e-01  1.74831828e-01             nan  2.24163010e-01\n -8.62998957e-01  2.35404546e-01             nan  2.57800217e-01\n -8.07612350e-02             nan  2.17018637e-01             nan\n -1.28322503e-01             nan             nan -3.78889766e-01\n             nan -3.37627888e-01  2.20968886e-02             nan\n  2.17731268e-01  2.39779477e-01             nan  1.53373852e-01\n  1.34590194e-01             nan -4.29042990e-02             nan\n  4.95526652e-02  2.35085068e-01 -2.54320194e-01 -1.35347940e-01\n             nan -3.86449781e-01  2.25650950e-01 -1.83335655e-01\n  6.82616297e-02 -3.18163652e-01 -7.78329861e-01             nan\n -3.58770560e-01 -4.74387839e-02 -5.02040747e-01 -2.47468729e-01\n             nan -2.30627672e-01 -2.06928994e-01  1.69281966e-01\n -1.31133390e-01 -9.54548617e-02  1.65510019e-01 -1.87441189e-01\n             nan -1.29273943e-01             nan -4.73322618e-01\n -8.05211658e-02  1.56239376e-01 -1.84170172e-02  3.50996708e-02\n  1.28576972e-01             nan -1.13228252e-02             nan]",
         "grid_score",
         "False"
        ],
        [
         "25",
         "66",
         null,
         "[-0.50188438 -0.18338821         nan -0.00724778 -0.13220321         nan\n         nan -0.23059426         nan  0.05387847 -0.36032425 -0.00465789\n         nan -0.32469137 -0.00983699 -0.37071694 -0.0431985          nan\n -0.15776213         nan         nan         nan  0.21756412 -0.13634874\n -0.03604247         nan  0.06661685         nan -0.38409544 -0.18201365\n         nan         nan         nan         nan  0.14392795 -0.07101409\n -0.33613342  0.16539518         nan  0.0209699          nan  0.17035212\n  0.0557996  -0.05850816  0.64008548         nan -0.10868019         nan\n         nan         nan -0.34815677  0.23892165         nan -0.55117377\n  0.07115389         nan         nan -0.25436936  0.02272253 -0.06164168\n -0.04309338  0.13017719 -0.02663122 -0.29488358 -0.23660637  0.15999442\n -0.03304545         nan  0.27367641         nan -0.11358858         nan\n         nan         nan -0.32604266 -0.25914196         nan  0.01789647\n -0.35428571  0.02123217         nan -0.05315573  0.08255185 -0.26903553\n         nan -0.1710059          nan -0.17667363 -0.04891987 -0.14978661\n -0.26694509  0.23466559 -0.12968387  0.07756674         nan -0.14078708\n         nan -0.22013353 -0.26642945 -0.35718393         nan  0.02474764\n -0.19137427         nan -0.32140111 -0.04189131  0.18830034         nan\n -0.10339168  0.24467542 -0.20601681         nan  0.55113068  0.04433337\n  0.25367393 -0.25787588  0.60364788         nan -0.15828556 -0.36358311\n         nan  0.36153032 -0.1665462          nan  0.35293068  0.02218895\n         nan         nan -0.46500767 -0.05751328 -0.1204898  -0.17198285\n         nan  0.00532653         nan -0.13065034 -0.10842867  0.42645254\n -0.35247212         nan         nan -0.23921353         nan -0.21113238\n -0.24084151         nan -0.32141614 -0.14336478 -0.01593123 -0.29977103\n -0.24301265         nan         nan         nan -0.43844071         nan\n -0.24757868 -0.4851453          nan         nan         nan         nan\n         nan         nan         nan         nan         nan         nan\n -0.14936106  0.02315577 -0.28588527 -0.04944386  0.15992378 -0.08266864\n         nan  0.37347328  0.16246913 -0.33227374 -0.09353844         nan\n         nan -0.14331433 -0.43129686  0.02767727  0.00435809 -0.17915585\n -0.30212093         nan -0.07922388  0.02732123         nan         nan\n -0.15262267 -0.10981942 -0.51963424 -0.23089156         nan         nan\n         nan  0.29994902]",
         "grid_score",
         "False"
        ],
        [
         "26",
         "67",
         "0.10960408651540836",
         "[ 0.06541012         nan -0.03802179 -0.34347533 -0.12378248 -0.14834269\n  0.16405418  0.07949592 -0.18022637  0.63007399         nan         nan\n -0.10681797         nan         nan         nan -0.06307615 -0.09690046\n  0.04737903         nan         nan  0.12113529  0.09176435         nan\n -0.30149719  0.14460084         nan -0.68536882 -0.12239056 -0.35477194\n  0.07987148         nan         nan -0.31684341  0.02373664         nan\n  0.30340831 -0.49001629         nan         nan         nan  0.2442786\n -0.36357426 -0.17271713  0.31196697  0.14680114 -0.01552534 -0.19294666\n         nan         nan -0.22288535  0.3475374  -0.48190853  0.01648569\n         nan         nan -0.0452061          nan -0.38756019 -0.46232178\n         nan -1.10591461         nan  0.04444107 -0.09706783         nan\n -0.315492    0.03308539 -0.33390236         nan -0.4146001  -0.29535842\n -0.58666153         nan         nan -0.0215078          nan  0.1073465\n  0.19923166 -0.18307038         nan -0.31522001         nan -0.2379181\n -0.12425793 -0.0081286  -0.20027019 -0.25496385         nan         nan\n -0.25360823         nan         nan -0.38806835 -0.49054395         nan\n         nan -0.2707252   0.01000513  0.02906817 -0.06052538         nan\n         nan         nan -0.35196983         nan -0.03604183         nan\n -0.37572758         nan -0.3044427   0.11663154         nan  0.13285371\n         nan -0.00850135  0.54799322         nan  0.12079993  0.10343918\n         nan -0.15445192 -0.13945476  0.0363101   0.08180202  0.10175808\n  0.03522503 -0.09109924 -0.08182571 -0.23761958 -0.19318009         nan\n -0.02540816 -0.29380659         nan         nan -0.4304952  -0.06638749\n -0.43157688         nan  0.18766496 -0.29220742 -0.17080602  0.06560222\n  0.20632777  0.00836223         nan  0.01199953         nan  0.40507062\n -0.11439339         nan -0.27023066         nan  0.69350968 -0.17508845\n  0.19463764         nan -0.09352499 -0.26941711         nan  0.10983327\n -0.30253126         nan -0.08219148  0.31657377         nan         nan\n         nan -1.29743464         nan  0.1786122          nan  0.34839338\n         nan         nan         nan         nan -0.07484673  0.00570717\n         nan -0.11683585 -0.19014929         nan         nan -0.29477473\n -0.08004925 -0.03463672 -0.19234451  0.05915644 -0.01299738 -0.18077971\n  0.11257419         nan  0.22967411 -0.12611964 -0.13575839         nan\n  0.42511791         nan]",
         "grid_score",
         "False"
        ],
        [
         "27",
         "69",
         "0.17040610963665057",
         "[        nan -0.29979081         nan  0.08367541 -0.25435355         nan\n  0.0741899  -0.23623158         nan -0.03920319  0.14460878         nan\n -0.23215167         nan  0.10898886         nan -0.03677722 -0.06801823\n         nan  0.42858394  0.11407978         nan -0.21006451 -0.18287836\n         nan -0.18023792         nan         nan -0.5139308          nan\n         nan         nan         nan  0.19036528  0.13029845         nan\n         nan -0.02825798 -0.10245943  0.14882687  0.13388056 -0.12893044\n         nan         nan -0.08268213 -0.07157911  0.28393504  0.41150129\n -0.16255363 -0.03297132         nan -0.178123           nan         nan\n  0.2168349  -0.09696261         nan  0.0147603  -0.21341318 -0.26105834\n         nan  0.03844372         nan         nan -0.07612926         nan\n         nan         nan         nan -0.35546469  0.3479249   0.30395184\n         nan -0.01375173         nan         nan  0.28798449 -0.44872598\n -0.00448816         nan         nan -0.19413544 -0.22229549         nan\n  0.06538484         nan         nan         nan -0.28468275 -0.29673939\n         nan         nan  0.02400003         nan         nan  0.38079768\n         nan         nan         nan -0.27971192         nan -0.15208121\n -0.59773136         nan -0.20760906 -0.09770561         nan -0.04996946\n  0.00382547         nan -0.26047584 -0.27412618         nan -0.1592016\n -0.22013285  0.00124671  0.56676763 -0.06451117 -0.27744188         nan\n         nan -0.29195839         nan         nan         nan         nan\n -0.63687877 -0.50778901 -0.12680204 -0.03777488  0.1111123   0.28524696\n -0.05662055 -0.14485437         nan -0.20234293 -0.0980846  -0.34450384\n -0.24718288  0.15738578         nan -0.00109468 -0.17738901 -0.08378643\n         nan -0.28898     0.04122931 -0.21203135 -0.38937561 -0.19071877\n         nan -0.16012784 -0.15973754 -0.33336747         nan -0.03086966\n         nan -0.18980383 -0.20431747  0.11050571  0.17120267  0.10379934\n -0.29292693 -0.29639534         nan         nan         nan         nan\n  0.04277262 -0.02893077         nan  0.33934489 -0.1487182  -0.48052253\n -0.20608742         nan         nan -0.18443335         nan -0.201608\n  0.07882211 -0.22119578 -0.1451675          nan         nan         nan\n         nan  0.11435799  0.8776426  -0.09094224         nan         nan\n         nan -0.08364081 -0.18119626 -0.09357251         nan         nan\n         nan -0.00319813]",
         "grid_score",
         "False"
        ],
        [
         "28",
         "79",
         null,
         "[-0.16892693         nan         nan -0.31179367 -0.44225905 -0.18519145\n         nan -0.23219406 -0.49451596  0.14236604 -0.5863504          nan\n -0.31407939         nan  0.01636971  0.2044265  -0.17301962         nan\n  0.09197627         nan -0.10801395 -0.32213684         nan -0.03513527\n         nan         nan  0.01818685         nan         nan  0.51767561\n         nan         nan -0.04444837         nan         nan -0.00983262\n -0.19489911         nan  0.01765936 -0.2695425  -0.19378482         nan\n -0.13686699         nan         nan         nan  0.00790655 -0.04159715\n -0.1415639          nan         nan         nan         nan -0.2529391\n -0.31798476 -0.12315195 -0.02801574 -0.22112127         nan  0.03040105\n         nan         nan -0.05569361 -0.30850961  0.24332563         nan\n         nan         nan         nan -0.20497765 -0.12674551         nan\n  0.34738634 -0.33625484         nan         nan -0.21396575  0.40607897\n  0.19381925 -0.03354938  0.21920313  0.05415118  0.11795535  0.54107609\n  0.1283402   0.61556755  0.49680876  0.27942697         nan -0.23003207\n         nan         nan         nan -0.28467524 -0.4867879          nan\n  0.12212824  0.12726006         nan -0.17472881         nan -0.16668182\n  0.06039988         nan  0.14738403         nan         nan -0.15239459\n -0.01216112         nan -0.29212331         nan -0.38276659 -0.23762185\n         nan -0.02658258         nan         nan         nan -0.16991644\n -0.2094248  -0.15394078         nan -0.03072485         nan         nan\n -0.11500217 -0.23257114         nan -0.13634701         nan  0.05867009\n -0.35397169 -0.20555815         nan         nan  0.28837179 -0.11723069\n         nan         nan  0.00401773         nan         nan         nan\n         nan -0.13803918 -0.44817966  0.09453094         nan         nan\n -0.22116274 -0.43543258 -0.25447852 -0.13441681  0.22592486 -0.23991949\n  0.47487224         nan -0.21229638         nan         nan -0.09950218\n         nan         nan -0.14353568 -0.30040625 -0.40081687 -0.2117902\n         nan  0.00862044         nan -0.23370611         nan -0.25340208\n         nan         nan         nan         nan         nan -0.03327383\n         nan -0.50895407  0.08528908 -0.33064946  0.32419291 -0.21283148\n -0.09482317         nan         nan -0.13968167         nan -0.17563109\n  0.00205763 -0.31052328         nan -0.0364292  -0.10585547 -0.17679803\n         nan         nan]",
         "grid_score",
         "False"
        ],
        [
         "29",
         "81",
         "-0.07622695295144191",
         "[        nan -0.24926587 -0.22516652 -0.21380125  0.22968719         nan\n         nan         nan         nan         nan         nan         nan\n -0.11232592 -0.2825839          nan         nan  0.19799435         nan\n -0.30148125 -0.06536204  0.15763582         nan -0.27324411         nan\n -0.16434552         nan -0.28418846 -0.51336999         nan -0.0592535\n  0.01429319 -0.18201841         nan  0.11846928         nan -0.16558414\n         nan -0.127757   -0.38146622 -0.2893815          nan         nan\n         nan -0.23647095 -0.2620817   0.12802237 -0.16307699         nan\n  0.04982898  0.1030435          nan -0.02779312 -0.23866333 -0.10171935\n -0.08163684         nan  0.0764158          nan         nan -0.21109688\n -0.29226171 -0.01973591  0.04498301         nan         nan -0.29539203\n         nan         nan -0.09019152         nan         nan         nan\n         nan         nan  0.15360792 -0.12952169  0.0757405  -0.25630949\n -0.0913671  -0.0858435   0.06638715         nan  0.18426701 -0.21946461\n         nan -0.10429563  0.18994121 -0.3146187  -0.0181448   0.37900945\n         nan         nan -0.11889786         nan         nan         nan\n -0.15856008  0.56729078         nan  0.21566729         nan -0.06556001\n         nan -0.22245318         nan  0.06788898  0.07119217         nan\n -0.13126564         nan -0.1126602          nan         nan         nan\n -0.00292187 -0.07651959         nan         nan -0.1235752          nan\n -0.12642356 -0.23211107 -0.24961827         nan  0.18087112         nan\n -0.61895484  0.29564146  0.02432993  0.09605353 -0.58176629         nan\n         nan         nan         nan -0.12190325  0.22096142         nan\n -0.07855769 -0.08703271 -0.10585224         nan         nan         nan\n -0.18431734         nan -0.17124616         nan         nan -0.30091433\n  0.00454114         nan -0.26810556 -0.13730226  0.37757883         nan\n -0.41012798  0.20875707         nan  0.49117047 -0.03200034 -0.18149376\n         nan         nan -0.02023781         nan -0.24255787         nan\n -0.45104349         nan -0.26976438         nan         nan -0.24094632\n         nan -0.30919342         nan -0.00250338  0.00425417 -0.18438707\n  0.12395592  0.35370692         nan -0.55476654         nan         nan\n         nan         nan  0.03824334         nan         nan         nan\n         nan -0.15322544         nan  0.21452574         nan -0.03427761\n         nan         nan]",
         "grid_score",
         "False"
        ],
        [
         "30",
         "83",
         "0.1088970016729863",
         "[-0.076962   -0.33201242         nan         nan  0.0423115          nan\n         nan  0.18566408 -0.31113667 -0.46537733  0.13538417 -0.09391162\n -0.21685697  0.00930603         nan -0.29362612         nan         nan\n -0.28191426         nan         nan -0.22914927 -0.20620659 -0.17613331\n         nan -0.2113094   0.04254401  0.7465025          nan  0.09503945\n -0.2036939   0.02621719  0.0065786          nan -0.22231226         nan\n -0.09508396         nan         nan         nan  0.12826045  0.437548\n         nan  0.13080068         nan         nan  0.04787406 -0.33989487\n         nan         nan         nan -0.12534499 -0.07608922         nan\n -0.25093396         nan         nan  0.1739941          nan -0.49871066\n -0.3091653          nan         nan -0.12976519  0.03616884         nan\n         nan         nan -0.11072955 -0.37534367         nan         nan\n  0.04053651  0.15390676         nan         nan -0.20131365  0.13840832\n -0.15328388  0.11129712  0.00994857 -0.18625609 -0.05416125  0.05265005\n         nan         nan -0.20594241         nan -0.63692786 -0.20568807\n -0.5607305          nan -0.03122451 -0.22274147  0.3808799          nan\n  0.15582355 -0.2304925   0.06853705  0.21593122 -0.14747458 -0.31945711\n -0.32596689 -0.18745017         nan         nan -0.22203436 -0.33770036\n         nan -0.03813169 -0.1517089          nan -0.37026479 -0.11712463\n         nan -0.19297958 -0.1906499          nan  0.01263747         nan\n         nan -0.13140818 -0.19166672 -0.11897857 -0.20874373         nan\n  0.2188031          nan -0.29809988 -0.10569022         nan -0.23038847\n -0.00485214         nan         nan -0.10271762         nan -0.31880745\n -0.39234823 -0.0124151  -0.03914215         nan         nan         nan\n  0.05291741         nan  0.18629087         nan         nan -0.26626595\n -0.38451876  0.41376665  0.2682754   0.06764696 -0.15336001 -0.23133422\n -0.26209055 -0.08246544 -0.20377213  0.31776244 -0.296637           nan\n -0.09192748 -0.33992866  0.19022309         nan         nan -0.17755205\n -0.06310462         nan -0.16881892  0.07375111         nan         nan\n -0.29101814 -0.02665881         nan  0.05667243 -0.1841252  -0.11984178\n -0.18868199         nan -0.18192902 -0.35652949         nan -0.37053333\n         nan         nan         nan         nan -0.29624092         nan\n         nan -0.09909263 -0.09794244 -0.18086306 -0.85073083         nan\n -0.06222032 -0.09162107]",
         "grid_score",
         "False"
        ],
        [
         "31",
         "88",
         null,
         "[ 0.23271886 -0.10349543         nan         nan  0.03919446 -0.04300484\n         nan         nan -0.22104088 -0.26180772 -0.34278747         nan\n -0.05045745 -0.01761203  0.04058783 -0.01019173         nan -0.10929729\n         nan -0.13971999 -0.06196593 -0.10726277         nan -0.15865291\n  0.11969735 -0.2717174  -0.03584245         nan -0.01838963 -0.17142993\n         nan         nan         nan         nan         nan  0.33794418\n         nan -0.20729144  0.20213669         nan         nan  0.32813597\n         nan -0.13867638         nan -0.09443354 -0.0786415  -0.25892836\n  0.07552818 -0.0475548  -0.03547225         nan         nan         nan\n         nan         nan         nan         nan -0.08321824         nan\n         nan         nan         nan  0.0440301          nan         nan\n -0.21909355         nan -0.11586436 -0.53131532  0.82212688         nan\n         nan -0.04070605         nan -0.07555208 -0.1982881  -0.22267665\n  0.20095258 -0.16243101         nan -0.39233094         nan         nan\n -0.00541012  0.00665075 -0.45323529 -0.04357383 -0.42195565 -0.05917508\n         nan  0.35963833 -0.18074969         nan         nan  0.05250357\n         nan         nan         nan -0.07466917  0.0694141  -0.19379711\n -0.02638635         nan  0.35662655 -0.19970633  0.22542952  0.09485795\n         nan -0.37222586 -0.30817434 -0.22116935 -0.46115324         nan\n  0.16300201         nan -0.25609745         nan         nan -0.13905344\n -0.33711824         nan         nan -0.58314055 -0.03075355         nan\n         nan         nan -0.24930136  0.30957677         nan -0.0799749\n         nan         nan         nan         nan -0.56950178 -0.30275251\n -0.44316582 -0.16039345         nan         nan         nan         nan\n -0.45003631  0.22674726  0.07409939  0.18052755 -0.3565702          nan\n         nan  0.16731721         nan         nan  0.03032007         nan\n         nan  0.17119098         nan         nan -0.04124339         nan\n         nan  0.0763769          nan -0.30371349  0.13567144         nan\n         nan -0.30095057  0.36028213 -0.41556363         nan         nan\n -0.14419266  0.00088719         nan  0.03972301 -0.15064634 -0.43715554\n         nan -0.27351485 -0.05403934 -0.424983           nan         nan\n         nan  0.15303842  0.04952083         nan  0.09935419         nan\n         nan         nan -0.19619586         nan         nan -0.27250714\n  0.23291436 -0.39028796]",
         "grid_score",
         "False"
        ],
        [
         "32",
         "91",
         null,
         "[-1.84738176e-01             nan             nan  2.01467809e-01\n  1.76758258e-01 -1.06383968e-01 -7.87138416e-02             nan\n -2.17099243e-02             nan -6.93989376e-01 -2.44898886e-01\n             nan -8.22614866e-02             nan             nan\n             nan             nan -2.08115583e-01 -3.08420690e-01\n             nan -6.96323346e-02             nan -2.06485010e-01\n             nan -1.29968212e-01             nan             nan\n -1.99942544e-01 -3.35047671e-01 -2.44419195e-01             nan\n             nan -4.11095675e-01 -2.06099615e-01  3.15973356e-01\n             nan  7.57863829e-02             nan             nan\n -2.20170605e-01             nan  2.92503521e-01 -8.99341912e-02\n -3.74718448e-02             nan             nan             nan\n  1.79344233e-01             nan             nan -1.93380218e-01\n -2.66818657e-01             nan             nan -6.52712383e-01\n -1.26141868e-01             nan             nan             nan\n             nan  2.78663617e-01 -4.90656741e-02             nan\n -4.74702896e-02 -1.44590106e-01 -3.48802067e-01             nan\n -1.92994963e-01             nan -1.99742044e-01 -1.66366968e-01\n  3.65134273e-02 -2.99211934e-01 -2.88683537e-01 -1.52930005e-01\n -8.59066125e-02  6.81278311e-02 -3.82117684e-01             nan\n  2.42236644e-01 -3.12098015e-01 -1.97851430e-01  1.25665650e-02\n -3.91659234e-01 -1.40358073e-01             nan -4.19141503e-01\n             nan -3.55657915e-01  2.63533040e-01 -2.57322698e-01\n             nan -1.56823505e-01  4.63085704e-01             nan\n  2.17278598e-02             nan -1.20412976e-01 -1.32522673e-01\n  1.12140521e-01 -2.75461509e-01  9.70226341e-02 -1.58384782e-01\n             nan             nan -2.32655472e-01             nan\n -3.79660322e-01 -3.15399787e-01  2.05838029e-02 -4.15990000e-01\n -2.92698069e-01  8.78084299e-03             nan             nan\n -4.68996587e-01 -1.35856855e-01  5.84711477e-02  2.59659703e-01\n -7.73382168e-02 -1.25414980e-01 -1.84385290e-01             nan\n             nan -1.34727120e-01  2.93911666e-01 -3.28141333e-02\n             nan  2.16784647e-02 -2.96118277e-01 -1.60662484e-01\n             nan             nan             nan             nan\n -2.88307409e-01  3.55489293e-01             nan  3.34933718e-01\n -1.90817149e-01             nan             nan -2.84173622e-01\n -1.74990434e-01 -1.78569756e-01 -2.62304817e-01             nan\n -3.61034799e-01 -2.15772785e-02  2.34140255e-03  2.65809650e-01\n             nan -5.81762329e-01 -8.53515491e-02 -5.97482244e-01\n             nan  2.59339898e-04  1.09626899e-01 -5.71294804e-01\n -4.47634191e-01             nan             nan -7.35541562e-03\n             nan -1.86871046e-01 -4.13342280e-01 -2.22442205e-01\n  9.35982137e-02  7.42274962e-03             nan  5.17514088e-02\n  5.51536212e-01 -7.18726348e-01             nan             nan\n  1.29148622e-01 -6.60093903e-02             nan             nan\n             nan             nan -1.91337953e-01             nan\n -3.41223367e-01 -9.66758614e-02 -1.56531719e-01 -2.38001154e-01\n             nan             nan -1.95554304e-01  7.85104260e-01\n             nan -1.83724687e-01             nan             nan\n  5.35959262e-01 -2.65465637e-01             nan             nan]",
         "grid_score",
         "False"
        ],
        [
         "33",
         "94",
         null,
         "[ 0.00619331 -0.16744771  0.17189308         nan         nan -0.37741695\n  0.21975508         nan         nan -0.17732472 -0.12532292         nan\n         nan -0.3346124          nan -0.08650922 -0.23536084         nan\n -0.28868826         nan -0.05677224 -0.07225282  0.34331484         nan\n         nan  0.16596966         nan -0.11531244 -0.11484428 -0.00218353\n -0.45162212         nan         nan  0.66920393 -0.31575602         nan\n         nan         nan         nan         nan -0.2031625  -0.28637149\n -0.20163611         nan -0.22431298         nan         nan -0.27563494\n         nan -0.15384747 -0.0514658          nan -0.22995541         nan\n         nan -0.04846655  0.23531357 -0.3374768   0.40205756 -0.05838542\n         nan -0.45892926  0.00937566         nan -0.21696172  0.06058231\n -0.77094623 -0.4666018  -0.2577299   0.77884852         nan -0.33619093\n  0.19321679         nan         nan -0.42646696 -0.31708829 -0.22160507\n         nan -0.3527298   0.41658725 -0.2083663          nan -0.35068556\n         nan         nan         nan -0.19166753  0.21948741         nan\n         nan         nan  0.40364497 -0.01096009 -0.19024065 -0.22499911\n  0.01998177  0.05597371         nan -0.37000012 -0.06121585  0.34515587\n         nan -0.32310453         nan         nan  0.02452245  0.09718745\n -0.10640213 -0.11821205 -0.59290881  0.02984281         nan         nan\n         nan         nan         nan         nan         nan -0.34377745\n         nan         nan         nan -0.4468958  -0.62226867  0.13276926\n         nan -0.35732392         nan -0.17305933 -0.05842087         nan\n -0.17228098  0.54932898 -0.28070435 -0.09035142 -0.35676794 -0.119063\n -0.21862092 -0.17125955         nan -0.14388154         nan -0.02050411\n  0.0960051          nan  0.03914908         nan         nan -0.01525953\n -0.20313356 -0.09226133 -0.11667373         nan         nan -0.24313258\n -0.27017249         nan -0.52212226         nan         nan         nan\n -0.07239434         nan -0.26651223         nan -0.51141256 -0.09449594\n -0.0415819   0.04622652         nan         nan         nan         nan\n  0.09218457         nan         nan -0.2901639  -0.23892153 -0.22002317\n  0.07117348         nan -0.24915929         nan         nan         nan\n         nan -0.1020601          nan  0.04225208         nan         nan\n -0.32764125         nan         nan  0.13430706         nan         nan\n  0.0621128  -0.03657345]",
         "grid_score",
         "False"
        ],
        [
         "34",
         "95",
         null,
         "[-0.01759229 -0.15869881 -0.32627197         nan         nan         nan\n -0.19079781         nan         nan -0.20640272 -0.46648159  0.06415418\n -0.16914614  0.28676247         nan  0.04608431         nan -0.54417079\n  0.29171892         nan         nan         nan         nan  0.04828277\n         nan  0.21063473 -0.36711232         nan         nan -0.13148993\n         nan -0.11108397         nan  0.0613325          nan         nan\n -0.30407031 -0.39848905 -0.40772701  0.02813905  0.01455832         nan\n  0.08754843  0.1059329   0.21728334 -0.24433646         nan         nan\n         nan -0.15033293  0.13279867 -0.36003485         nan -0.29226582\n         nan -0.20461474         nan -0.30679129  0.31547374  0.83982573\n -0.15866862 -0.2240795          nan  0.22640544 -0.18083991 -0.34806817\n  0.45640976  0.13335943 -0.25402254         nan         nan -0.26467438\n         nan -0.12918965  0.04553742  0.11457407 -0.19951678  0.23959325\n         nan -0.31577625         nan  0.15312062 -0.15875479  0.46985858\n  0.4849105   0.30359399 -0.55601174         nan -0.24608529  0.10915878\n         nan  0.10580388         nan -0.08251718         nan -0.24730793\n -0.30200938         nan -0.26189507 -0.06711622 -0.48843815 -0.30720976\n -0.27464069 -0.25081809         nan         nan -0.15721489         nan\n -0.30516555         nan  0.21891957 -0.46171099 -0.20982997         nan\n  0.11503406         nan         nan         nan         nan         nan\n -0.25073252         nan  0.01506454 -0.14374951 -0.31330835  0.24517049\n -0.13992476         nan         nan  0.12014194 -0.14476972         nan\n         nan  0.07847064  0.22607992  0.2157113   0.31641832 -0.01814207\n  0.31734286 -0.02037618         nan         nan -0.30629944         nan\n         nan         nan         nan -0.13539508         nan         nan\n -0.31973667  0.66924745 -0.18523259 -0.21210557 -0.26499846         nan\n         nan  0.0847781  -0.19543587         nan         nan -0.02180903\n -0.17271739 -0.11202449 -0.52552622 -0.28512902 -0.24719341 -0.35104727\n         nan -0.31773808  0.10616426 -0.20981885  0.11504396         nan\n         nan -0.07972802 -0.19366301 -0.17030233         nan  0.28002791\n         nan -0.16818988 -0.27668054 -0.06523581  0.05504308         nan\n         nan         nan  0.24746968         nan  0.15636057         nan\n  0.13294451  0.18856324         nan  0.06378884  0.03577575  0.00467274\n -0.13567234  0.06231018]",
         "grid_score",
         "False"
        ],
        [
         "35",
         "96",
         null,
         "[        nan         nan         nan         nan  0.12487874         nan\n         nan         nan         nan         nan         nan -0.15714746\n         nan -0.28034701  0.05619343 -0.29881341 -0.03495135 -0.23134328\n -0.23176391 -0.26170805  0.13586903 -0.25705876  0.13286397 -0.11378829\n -0.0225833  -0.13276546  0.27292541         nan         nan         nan\n -0.5184488  -0.40626654         nan -0.16947605 -0.09126354  0.04014866\n         nan -0.10774672         nan -0.10735067         nan         nan\n -0.09294992 -0.63627723 -0.09052625 -0.03657913 -0.01343546 -0.10104556\n         nan         nan -0.21217424 -0.0359207          nan -0.17872014\n         nan         nan  0.16301112 -0.1451806  -0.11696371         nan\n -0.35627414  0.12350537 -0.42858633  0.10458743  0.02442929         nan\n         nan         nan  0.13406174 -0.3348035          nan  0.00337109\n         nan -0.13618811 -0.28881775  0.1604051  -0.09515388         nan\n         nan         nan         nan -0.14049327 -0.19297278         nan\n         nan         nan -0.80747556         nan         nan         nan\n -0.31597876 -0.20848971         nan         nan -0.07074894  0.06828645\n -0.32294405 -0.66231316 -0.2499361   0.79857587         nan  0.23832678\n -0.33610402         nan -0.17628946         nan  0.32608274         nan\n  0.00570186  0.0271287  -0.34126266 -0.39282479 -0.39489108         nan\n -0.12790415         nan         nan         nan         nan -0.19808616\n -0.01427121 -0.12896162         nan         nan -0.01272499  0.14614241\n -0.25633003         nan -0.43814365         nan         nan         nan\n -0.2988292  -0.15090659  0.19477812         nan -0.08883352 -0.30187399\n  0.00304037 -0.5128421   0.21069311         nan -0.40561047 -0.24456257\n  0.08469169         nan -0.02030402 -0.32124283         nan         nan\n -0.19642906         nan  0.15125934         nan         nan -0.53674477\n -0.15664384 -0.04972359         nan         nan  0.10436139         nan\n  0.03073109  0.17316387 -0.20652185         nan -0.11385411 -0.1278399\n -0.13725729 -0.01732085 -0.32720563  0.21817393 -0.42098349 -0.09201749\n -0.39797471         nan  0.17457665         nan -0.06040976         nan\n -0.30178192  0.10580175  0.09931187 -0.24573319         nan -0.0102105\n         nan  0.08761865         nan -0.41169626 -0.26388054         nan\n         nan         nan         nan  0.01025518         nan  0.17735109\n -0.40800778 -0.01658098]",
         "grid_score",
         "False"
        ],
        [
         "36",
         "99",
         "-0.17134165536639145",
         "[ 0.21293645         nan -0.39183145         nan         nan         nan\n -0.06539457 -0.07554979 -0.19389877 -0.4775716          nan  0.03641887\n -0.31008776  0.00731337  0.13838957         nan         nan  0.08052395\n -0.41969167         nan -0.1838907          nan         nan -0.43737358\n         nan -0.10818092  0.07584871  0.32460467 -0.16539881         nan\n  0.01021564  0.05001933  0.12769816 -0.09494025         nan -0.56287575\n -0.20980589         nan -0.17111853 -0.29713837  0.08696933         nan\n  0.09265208         nan         nan         nan -0.38334728  0.00298773\n         nan  0.19066097         nan         nan  0.16576899 -0.30235694\n         nan -0.17139919 -0.12519109 -0.2277423          nan  0.44491977\n         nan -0.15463579 -0.15928423 -0.09381175 -0.14844642  0.09573176\n -0.41544842  0.01892046  0.01833262  0.35516592         nan -0.3334636\n         nan         nan         nan -0.22856439 -0.32492969         nan\n -0.21798913         nan -0.22263925 -0.31719047  0.17322563         nan\n         nan         nan         nan         nan         nan         nan\n         nan  0.08202663 -0.1655854          nan         nan -0.1203857\n         nan         nan         nan -0.16060579 -0.24473561         nan\n -0.07703981         nan -0.34240225         nan  0.03615569 -0.23487376\n         nan -0.03522637         nan -0.00729069  0.13975516         nan\n         nan  0.05683291         nan         nan         nan         nan\n -0.55447952         nan -0.15004034 -0.10551324  0.12582836 -0.02961602\n         nan -0.07899795         nan -0.33388869         nan         nan\n -0.3236691          nan -0.333592   -0.00425612         nan         nan\n -0.57292243 -0.25014172 -0.27538609         nan  0.31680105  0.16395115\n -0.12569367         nan         nan  0.18912233         nan         nan\n         nan         nan -0.2214163   0.075649   -0.37160176  0.06807654\n  0.05968611         nan -0.10840874 -0.19084171 -0.03675325  0.21767646\n -0.24335087 -0.11968171         nan -0.18899084  0.30031769 -0.49265559\n -0.15320349         nan         nan         nan         nan -0.51112452\n         nan  0.01879115 -0.10218869 -0.04203296         nan -0.32067759\n  0.03141561  0.18845331  0.08871627 -0.15253372  0.0822992          nan\n  0.06322565         nan -0.49099634 -0.25281857 -0.19425295  0.38209816\n -0.54961778 -0.06648298         nan         nan  0.79215386         nan\n -0.1292022  -0.34726292]",
         "grid_score",
         "False"
        ],
        [
         "37",
         "101",
         "-0.10959982431146312",
         "[-5.82535253e-02  9.11725083e-02             nan             nan\n  3.58786930e-02 -4.76894265e-02  9.41519842e-02             nan\n -2.64874210e-01             nan -2.08589083e-01 -1.99259675e-01\n             nan             nan  5.44742720e-04             nan\n -2.76569210e-01 -3.24429769e-02 -2.23731538e-01 -3.83145775e-01\n -1.91273751e-01             nan -3.49014628e-01             nan\n -1.67561617e-01 -2.76506695e-01             nan -6.09472691e-02\n -4.16711213e-01             nan -1.48362501e-01 -3.29399356e-01\n -1.56946344e-01             nan  2.05012785e-01 -1.77580577e-01\n -3.26520501e-02 -1.18058286e-01 -1.19987922e-01             nan\n             nan -3.56804746e-01 -2.69485379e-01 -2.91158729e-01\n  1.19620428e-01             nan -1.49568737e-01             nan\n -5.15978375e-01 -3.73831473e-01 -2.60328265e-03 -1.68756612e-01\n  3.44456215e-02 -1.45326238e-01  3.82927206e-01 -2.63262241e-01\n             nan -2.29921202e-01             nan             nan\n             nan             nan -1.25105735e-01 -4.89242517e-01\n             nan  1.09046342e-01 -1.42114453e-01             nan\n             nan             nan -1.89830447e-01  3.83461833e-02\n             nan  4.91212794e-02 -7.77890511e-01 -1.43210509e-01\n -2.46595596e-01 -2.92140900e-01             nan -1.44036196e-01\n             nan             nan  3.25917258e-02             nan\n             nan             nan  8.98229618e-02             nan\n -9.38485457e-02             nan -1.86053484e-01             nan\n -3.85314495e-01 -3.69399786e-01 -3.32785774e-01  3.81998689e-01\n -3.47633356e-01 -1.56858922e-01 -3.23514667e-01 -3.15967045e-01\n             nan -4.33539555e-01 -7.59114008e-01             nan\n  3.92533955e-03 -3.74178810e-01             nan             nan\n  1.15592890e-01  2.95691172e-01             nan -3.06347204e-01\n             nan  1.30070486e-02  2.06738797e-01             nan\n -1.14198525e-01 -3.03714568e-02 -1.68808929e-01             nan\n             nan -1.08722040e-01             nan  1.37165316e-01\n             nan             nan  2.44125199e-01             nan\n             nan -2.04674138e-01  1.05754486e-01  3.94614620e-02\n -2.97518775e-01  1.01915866e-03  2.32439103e-01             nan\n             nan -1.31816361e-02             nan -1.35748741e-01\n -1.44470044e-01 -1.95894439e-01 -1.61206377e-01  6.47483191e-02\n -8.88751711e-02  2.39529903e-01 -1.87190356e-01  2.06719964e-01\n -2.40773656e-01             nan  2.73655802e-02 -1.21437648e-01\n -3.57050067e-01             nan -9.11262473e-02             nan\n  9.08211620e-03             nan  4.16745612e-02 -4.23881538e-02\n             nan  2.42790903e-01             nan             nan\n  6.93587026e-01             nan             nan             nan\n -1.29289390e-01             nan -1.53312774e-01 -5.92861054e-02\n -3.58835313e-01  9.29025203e-02 -1.66717785e-01             nan\n -2.02501821e-01             nan  3.85358192e-01             nan\n             nan             nan -3.50554303e-02  1.04567743e-02\n -1.48536132e-01 -3.97752312e-01             nan -2.67564465e-01\n             nan  2.50159492e-01 -1.65533084e-01             nan\n             nan -2.38907770e-01  4.34071998e-02  5.30766261e-02\n             nan -1.67932068e-01 -5.95734090e-01 -3.55073900e-01]",
         "grid_score",
         "False"
        ],
        [
         "38",
         "102",
         null,
         "[ 0.57436826         nan  0.16683171         nan         nan         nan\n -0.0492103          nan  0.05841905  0.37615264 -0.13304542         nan\n         nan         nan -0.16156695         nan         nan         nan\n         nan -0.01882845 -0.05421379 -0.17608403  0.28651533         nan\n         nan         nan -0.19944058 -0.60038231 -0.07783284  0.63291603\n         nan         nan -0.10138753         nan -0.39544293  0.30754219\n         nan  0.11701042 -0.02568098 -0.19040474  0.0825565          nan\n         nan         nan -0.14413214  0.3588482          nan -0.57780294\n -0.15668456 -0.29919835         nan -0.08853155  0.22115708 -0.56141347\n -0.243485    0.19510312         nan         nan         nan -0.17782632\n  0.21969868 -0.24753898 -0.30471157  0.2266045          nan  0.30167199\n -0.02828089 -0.15379097  0.08109803 -0.19331957 -0.34674231 -0.39541384\n         nan  0.07189387 -0.11950236         nan  0.84580326 -0.21345612\n         nan -0.29524108 -0.31851312 -0.21020434         nan -0.29925193\n -0.13865437 -0.09962294         nan  0.08099068         nan         nan\n         nan         nan  0.13300143         nan  0.16413732 -0.25993096\n  0.01751194 -0.27271383         nan         nan -0.23728034 -0.39349876\n -0.23679971 -0.42323591 -0.15191455         nan -0.02820072         nan\n         nan -0.55172541 -0.35932914  0.26096317         nan -0.29230597\n  0.04155541  0.02776656 -0.16571376  0.0064698          nan         nan\n -0.15022393         nan         nan         nan -0.1844561   0.00832408\n -0.23589156         nan -0.09909262  0.03395751         nan         nan\n  0.27203971  0.59826859 -0.25429237  0.11039639 -0.3008769  -0.18414195\n -0.02327265 -0.06772659         nan -0.45488994         nan         nan\n  0.27692024         nan -0.16930601 -0.13217662         nan -0.07590852\n -0.29974253 -0.28829481         nan  0.21298552  0.15585928         nan\n         nan         nan -0.09396973         nan  0.06077587  0.20586453\n         nan         nan -1.02925286 -0.30542724 -0.30428815  0.19173671\n -0.12815914         nan         nan         nan         nan -0.05600803\n -0.586345   -0.23764808         nan -0.46695517         nan -0.18054289\n -0.13829986 -0.02871003         nan         nan         nan  0.23958598\n -0.56727068         nan         nan         nan         nan         nan\n -0.3379264          nan  0.10823346         nan         nan  0.60747668\n -0.05806987 -0.30391407]",
         "grid_score",
         "False"
        ],
        [
         "39",
         "110",
         null,
         "[ 0.09741271         nan  0.20378708  0.2033078  -0.08934543 -0.36869715\n -0.01864311 -0.02655145         nan -0.1393578  -0.5287276          nan\n  0.05937483 -0.35116617  0.02371936 -0.11286425 -0.06448472 -0.07089171\n  0.06771927  0.08167657 -0.11741923  0.13033848 -0.427199           nan\n         nan         nan -0.21734039         nan         nan  0.03974532\n         nan         nan         nan         nan -0.18356296 -0.24242418\n -0.40855313 -0.22228692 -0.24637553         nan         nan         nan\n         nan -0.83079352         nan -0.44834743         nan  0.6518196\n -0.03816449 -0.25517831 -0.14087307 -0.03438014         nan -0.16650955\n         nan  0.01547184         nan  0.36069156         nan  0.02993616\n  0.02077986  0.03467717         nan -0.05620989  0.00116455         nan\n  0.00238645 -0.00966328  0.29641547 -0.21877077 -0.3864824  -0.06834416\n -0.0472629  -0.21217964 -0.03270063         nan         nan  0.00253234\n -0.07141558 -0.17120407 -0.01450088 -0.25676153         nan -0.149569\n -0.32368482  0.06859487  0.46846861 -0.1232328  -0.11711705         nan\n         nan         nan -0.09578934 -0.60866594  0.01886415  0.04285597\n  0.33219124  0.06905831 -0.1007964          nan         nan         nan\n  0.01808482         nan  0.06977749 -0.14969749 -0.1759907  -0.21916748\n -0.70285666         nan -0.15537585 -0.25808568  0.42738846 -0.36999899\n         nan -0.13887582  0.15451525 -0.16370075 -0.32022478 -0.10959281\n -0.10506455  0.01574887         nan  0.03504652  0.14342619 -0.16088249\n -0.20817115 -0.00464255  0.33891705  0.08053126         nan  0.03340434\n -0.14169851  0.00774313         nan  0.01385312 -0.31699989 -0.20083971\n -0.23351578  0.0285224   0.22526324 -0.21509147 -0.08008495         nan\n         nan         nan -0.13092129 -0.09082502         nan  0.17636521\n  0.2238595  -0.24301268         nan -0.11713415         nan  0.4643055\n -0.04599169 -0.269056   -0.32368024  0.00751011 -0.13004896 -0.24970808\n -0.08081264 -0.33026757 -0.05171692 -0.26525911  0.1503852          nan\n  0.30068956         nan         nan -0.02051684  0.19895504 -0.06569474\n  0.28450879 -0.23329992  0.02272436 -0.03448045  0.03077721  0.02690132\n -0.18826951  0.00696365 -0.06515236 -0.04290735 -0.06458882         nan\n         nan         nan  0.01318774  0.14214812 -0.68910491 -0.19206351\n  0.30795876 -0.11440288         nan         nan -0.32806374         nan\n -0.12145459         nan]",
         "grid_score",
         "False"
        ],
        [
         "40",
         "111",
         null,
         "[-3.83750818e-01 -1.91426123e-01             nan             nan\n -1.92149386e-01             nan             nan             nan\n             nan -1.47839338e-01             nan -1.43170841e-01\n             nan -2.69553936e-01             nan -5.25991496e-02\n             nan             nan  1.41400088e-01 -1.60531838e-01\n             nan             nan  1.01088037e-01             nan\n             nan -7.22807555e-01  2.46237112e-03 -3.86235852e-01\n  4.66817226e-03             nan  2.65442715e-01             nan\n             nan -1.98179271e-01             nan -3.28644911e-01\n             nan -3.14233571e-01             nan             nan\n -2.49361416e-01             nan             nan -8.60106083e-02\n             nan  2.37226763e-01             nan             nan\n -1.73374762e-01             nan -1.39322714e-01  3.80951912e-02\n             nan -3.18946603e-01             nan  1.45402682e-01\n             nan             nan             nan             nan\n -3.10851945e-01  3.66246239e-01 -1.77040896e-01             nan\n -3.91318822e-01  1.08809440e-02  2.14354809e-01  9.04737908e-02\n             nan  1.51187518e-01 -2.16907521e-01  1.73659449e-01\n -4.59057563e-01 -1.55690284e-01 -3.55054459e-01 -1.34695434e-01\n  6.34971215e-02 -4.73341528e-04             nan -3.60671575e-01\n             nan  9.29870205e-02             nan -1.86658064e-02\n             nan -2.58688046e-01             nan -2.83964409e-01\n -3.45950541e-01 -6.80346112e-01  2.40517936e-02 -4.57040268e-01\n -1.01482458e-01             nan             nan             nan\n             nan  4.07608908e-01             nan -2.44805079e-01\n -3.61073111e-02 -1.52946093e-02 -2.78719427e-01             nan\n             nan             nan             nan -5.65814211e-01\n             nan -1.38851104e-01             nan  1.75982212e-02\n             nan -1.60374657e-01 -7.21988873e-01             nan\n  3.64249344e-01             nan  4.77830813e-01 -2.46103678e-01\n -1.40225016e-01 -3.50339659e-01 -1.96582695e-01             nan\n -3.22958922e-01             nan -4.04655424e-01 -5.63418016e-02\n -4.47937215e-01 -8.10796486e-03             nan -3.06436382e-01\n             nan -1.81865623e-01  2.65303276e-03  2.34433484e-01\n             nan -1.27865049e-01 -1.01591570e-01 -6.17028468e-01\n -3.97463423e-01             nan -1.90864445e-01             nan\n             nan             nan -1.79125152e-01             nan\n -1.45055325e-01  2.36938748e-02             nan -9.18255176e-02\n -1.83297088e-01             nan -5.54255578e-01             nan\n  1.44077240e-01             nan  1.97142126e-01  8.68854543e-02\n             nan -4.32883515e-01             nan -2.38859201e-01\n -6.91637313e-02             nan             nan -2.20685358e-01\n -5.53551890e-01 -2.42407480e-01             nan -3.68704183e-01\n             nan -2.38571637e-01  1.42968823e-02 -2.84577533e-01\n -2.29110785e-01  9.20237747e-02  3.08339167e-01             nan\n             nan             nan -2.70451141e-01 -2.16160162e-01\n             nan             nan  5.37191216e-01  3.56845165e-01\n             nan -3.46044957e-01 -4.18951872e-01             nan\n             nan             nan             nan  8.01760172e-02\n             nan             nan             nan             nan]",
         "grid_score",
         "False"
        ],
        [
         "41",
         "114",
         "-0.2740042243204267",
         "[        nan         nan -0.1001085   0.05133532 -0.05104136 -0.00551217\n  0.33916118  0.08763353  0.2558199          nan -0.17770206 -0.08839132\n         nan -0.27409603 -0.05552234 -0.18804214  0.19110381  0.35333108\n  0.44389736         nan -0.33589686 -0.28192963 -0.28513049 -0.37153267\n  0.08611763  0.33956534 -0.50261351         nan -0.36201572         nan\n -0.21131682         nan -0.31450183         nan -0.28543215  0.09827734\n -0.09867293 -0.06779311 -0.074448   -0.15564142         nan         nan\n         nan -0.03594259 -0.08325136         nan         nan -0.62393452\n -0.17951171 -0.19938894  0.03311165 -0.04888059 -0.17314088 -0.15517978\n -0.28721218 -0.14902138         nan -0.06508763 -0.05989768  0.83344865\n -0.13202938  0.1159945  -0.06444741         nan  0.04933618 -0.28629876\n  0.03173981         nan         nan -0.03035851 -0.19411361         nan\n -0.37743424         nan         nan -0.48412241 -0.19980379 -0.25786433\n  0.32913574  0.05045583  0.12813554 -0.11596621 -0.14625907         nan\n -0.29942184  0.21660846 -0.38085459 -0.65370482 -0.16817347  0.02147445\n  0.26755108         nan -0.16969395 -0.18338983  0.19899421         nan\n  0.08405363 -0.41675269 -0.19269215 -0.10334036 -0.20246822 -0.2190036\n -0.16992826 -0.39874034         nan -0.16350112         nan -0.0573708\n  0.06098259         nan         nan  0.12505296         nan         nan\n  0.13959326  0.02606738         nan  0.06941927  0.12859062         nan\n -0.15726357  0.26295231         nan         nan         nan  0.22038343\n -0.12510765 -0.35631167 -0.04483745 -0.37576996 -0.01364829 -0.3691418\n         nan -0.22557675  0.44433287  0.0404529  -0.01367966 -0.1199315\n         nan  0.22865043         nan -0.36495608  0.24642279         nan\n -0.06934009         nan  0.04011791 -0.34873641         nan  0.14450902\n  0.08995197 -0.29388183 -0.38338949 -0.05565327         nan -0.25335751\n         nan  0.08425928 -0.30940277         nan -0.24150131 -0.27462946\n  0.2241272  -0.02474666 -0.06336105 -0.20893551 -0.24261057 -0.20036772\n -0.3161373  -0.04527612  0.17696859  0.11404594  0.98463506 -0.43576688\n -0.10704543 -0.31894399 -0.27096133  0.27656681 -0.18546138 -0.30757207\n -0.12715391 -0.28289922         nan         nan -0.24364062  0.11790605\n         nan  0.00588621         nan -0.0805833          nan -0.10184226\n -0.02476511 -0.37642788  0.00938877 -0.18169806 -0.37036332 -0.11244792\n -0.1638001   0.50935509]",
         "grid_score",
         "False"
        ],
        [
         "42",
         "116",
         null,
         "[ 0.40347738 -0.13476399         nan         nan         nan         nan\n -0.09192294 -0.1523357  -0.48835767         nan -0.17652933 -0.0843132\n  0.05996093         nan -0.28769505 -0.01019433  0.08190331 -0.28575971\n -0.05715767  0.21965123         nan -0.03528765  0.51934604  0.05702962\n  0.4672295          nan -0.34789562  0.15966343         nan -0.28493331\n  0.55338382  0.14733127         nan -0.05935809 -0.0647435  -0.12093324\n -0.18690909         nan         nan         nan         nan -0.44662503\n         nan         nan -0.45861382 -0.345978    0.0959328          nan\n -0.36480014         nan -0.23861274 -0.15186195 -0.15314853 -0.54071618\n  0.09116932  0.21626932  0.15310599         nan -0.44045681         nan\n  0.03560828         nan         nan  0.00127436 -0.21602398         nan\n  0.6950572          nan         nan -0.19741459 -0.24316606  0.20643149\n  0.26940492 -0.12172148 -0.01516803 -0.35553163         nan  0.44111924\n -0.22381826         nan         nan -0.11834134         nan  0.57733212\n  0.20062505         nan  0.37390213         nan         nan -0.05049742\n         nan -0.07811476         nan  0.25921893 -0.24637515         nan\n         nan         nan         nan         nan  0.10070142 -0.161276\n  0.25149553         nan         nan -0.25506924 -0.65481167         nan\n         nan         nan  0.23971258 -0.06001525 -0.40447368         nan\n         nan -0.06926459         nan         nan -0.14316481  0.2890303\n         nan         nan  0.0409688          nan -0.32228838         nan\n         nan         nan         nan -0.08757761 -0.14863772         nan\n -0.26239364 -0.35243302         nan -0.1696491  -0.15862308  0.12064687\n         nan  0.20611266 -0.65622673  0.19554696 -0.33213636 -0.16791547\n         nan  0.11468702 -0.21875772 -0.44694651 -0.25452221  0.12254044\n -0.22986263 -0.12305377         nan         nan         nan -0.14026999\n         nan -0.07217667 -0.07768377         nan -0.14626295  0.11655199\n         nan -0.32853482 -0.070348   -0.15456445         nan         nan\n -0.14902195  0.22115188  0.05203265         nan -0.40280208 -0.44073649\n -0.16513891 -0.26115941 -0.32919195         nan -0.58089545 -0.15204519\n  0.03807996         nan         nan         nan         nan         nan\n -0.19438248  0.34006891 -0.04193942         nan -0.21911601 -0.25844535\n         nan  0.28465702 -0.34595275 -0.30734791         nan         nan\n         nan -0.05630421]",
         "grid_score",
         "False"
        ],
        [
         "43",
         "117",
         "-0.35072403939514263",
         "[-2.15045616e-01 -1.67261308e-01             nan  7.31739816e-02\n             nan             nan -1.89841742e-01             nan\n             nan -1.65471469e-01             nan -6.21991032e-01\n -1.99930661e-02 -7.01801852e-02  7.26820568e-02             nan\n             nan  2.90804895e-01             nan -2.15747311e-01\n             nan             nan -2.43851478e-01 -5.57433992e-02\n             nan  1.02374007e-01 -1.22505840e-02  3.09979677e-01\n  3.84428853e-02  7.61778806e-02             nan -1.14154597e-01\n -1.22804635e-01 -1.45227422e-01 -2.36288836e-01 -1.63762322e-01\n -1.06970051e-01 -4.03299800e-01             nan  1.93119549e-01\n -6.39635154e-02             nan  3.78985510e-01             nan\n             nan             nan             nan -5.03096642e-02\n  6.07043323e-02  5.32948383e-02  1.90716970e-01 -1.01137262e-01\n -6.06450753e-02 -2.04205884e-01             nan -3.90518377e-01\n             nan             nan -2.31674563e-01             nan\n -2.43764481e-01 -2.79560639e-02 -2.65747950e-03             nan\n -3.24587150e-01             nan             nan -4.98739494e-01\n -2.18092291e-01 -1.66006540e-01  4.02200496e-01  2.31747399e-01\n             nan  1.43980540e-01             nan  1.00996768e-01\n             nan -4.92259988e-01 -8.38562995e-02             nan\n  1.53649799e-01 -3.03483779e-01 -4.76723169e-02 -1.06540805e-01\n             nan             nan  1.04417228e-01 -3.72119175e-01\n             nan  4.22653883e-06             nan -1.03348646e-01\n -2.51902511e-01 -8.27413984e-02 -3.43971915e-01             nan\n -2.26889828e-01 -1.22592569e-01             nan -3.44288868e-01\n             nan -1.15756769e-01             nan             nan\n             nan -3.26395249e-01             nan  2.45951622e-02\n  2.88123512e-01  2.83465903e-02 -3.63704728e-01  4.29264535e-01\n -2.36445057e-01  5.02728157e-02             nan             nan\n             nan -2.41478241e-01             nan             nan\n -3.08333864e-01 -1.94667851e-01 -1.62323837e-01             nan\n  1.26258541e-01 -2.51263801e-01             nan -1.23057698e-01\n  5.00482584e-01             nan  1.47507578e-01 -3.35507628e-01\n             nan -1.18867333e-01 -2.93772539e-01  2.53939991e-02\n -2.09966527e-01             nan -4.36947106e-01             nan\n -2.06125630e-01             nan -1.32733614e-01             nan\n             nan             nan  1.30820659e-01  2.80010459e-01\n -8.90943416e-02  2.00823368e-01  3.30492964e-01 -3.66892907e-02\n -4.52006139e-02  1.65252048e-01 -1.63858456e-01 -5.32407905e-01\n  1.96067187e-01  2.89525997e-01             nan             nan\n  2.34326750e-01 -1.96047660e-01             nan -1.57792679e-01\n  7.80329871e-02 -2.34113112e-01  8.89139703e-03 -2.79440895e-01\n             nan -1.40342404e-01 -2.00341316e-01 -1.38930152e-01\n -2.45031937e-01  5.18040395e-01             nan -1.21345298e-02\n -1.84824956e-01 -5.35204947e-02 -2.29350779e-02  2.10306048e-01\n -2.32435484e-01             nan             nan -2.67135782e-01\n             nan             nan  1.60897484e-01 -3.26095652e-01\n             nan             nan             nan             nan\n -2.37550982e-01 -2.56379073e-01             nan             nan\n -4.49958610e-01 -3.59941047e-01 -2.07124182e-01             nan]",
         "grid_score",
         "False"
        ],
        [
         "44",
         "118",
         null,
         "[-0.09703868 -0.50410967 -0.21870123         nan  0.68857262         nan\n -0.29218007 -0.0303659          nan         nan         nan  0.08516838\n -0.05955941 -0.31238302         nan  0.00816423  0.08907052 -0.20442731\n  0.10178562 -0.17510369         nan         nan -0.35073988  0.19320841\n -0.29597732 -0.03265759 -0.07761958         nan -0.34178552 -0.3831739\n         nan -0.15135905 -0.00295824 -0.30805127         nan -0.02665279\n         nan -0.12386384 -0.33611908         nan         nan  0.05932574\n -0.09508659  0.11266545 -0.36616101 -0.16875942         nan         nan\n -0.02230295         nan -0.17811799 -0.13276587 -0.20011209  0.12159574\n -0.16152995  0.29844189         nan         nan -0.11383586 -0.11905809\n  0.01828891         nan -0.02779777         nan         nan         nan\n         nan -0.03660552         nan         nan         nan         nan\n         nan -0.06062311 -0.31501379         nan         nan -0.14149106\n -0.24475474 -0.10259223 -0.3749563          nan  0.37985758  0.65734027\n         nan -0.22100464  0.22202319 -0.16519372 -0.42917713         nan\n -0.07019006 -0.33340361 -0.09543589         nan         nan  0.09014448\n         nan -0.20051972  0.19870985  0.02768148         nan -0.23398513\n -0.09153681 -0.10535071  0.08760513  0.08136901 -0.55078106         nan\n         nan  0.05455223         nan -0.26416195 -0.03619899 -0.13603621\n -0.08449931 -0.23756969         nan         nan -0.00074113         nan\n -0.65667745         nan  0.1321225          nan -0.07993577 -0.37815029\n -0.08504053 -0.08993071 -0.03041958         nan  0.30653331         nan\n         nan -0.13541958 -0.02572824 -0.16134195 -0.13692676  0.13897583\n  0.11965732 -0.24113892         nan  0.2529199   0.05232476 -0.28219012\n         nan -0.00365774 -0.05020354  0.22185702  0.34194346         nan\n  0.01931518 -0.011273   -0.12770053  0.10121949         nan         nan\n -0.56443239 -0.27319176 -0.17520003         nan         nan -0.11919541\n  0.42352693 -0.3541574  -0.08582453 -0.40538385 -0.13995169         nan\n -0.00668271  0.26280202 -0.08488272 -0.26332557 -0.37857634         nan\n         nan         nan         nan  0.2903561          nan -0.18616051\n         nan -0.45510005 -0.59185325 -0.03915714 -0.12185185         nan\n         nan -0.03795287  0.0525564  -0.09941126         nan -0.06107189\n  0.07441708  0.3060859   0.06563322 -0.11867806  0.01555203 -0.02035614\n         nan -0.23708707]",
         "grid_score",
         "False"
        ],
        [
         "45",
         "119",
         null,
         "[        nan  0.29963196         nan -0.3562371   0.219419   -0.16400133\n  0.09738365 -0.09031626         nan         nan -0.20442633         nan\n         nan  0.48336862  0.0771773   0.11750992         nan  0.1021284\n -0.31848758  0.0081676   0.1443272          nan  0.03513434 -0.29278501\n         nan         nan -0.01519459 -0.20063989 -0.10996702 -0.19665954\n         nan  0.02546363  0.23290697 -0.29877403  0.05349394 -0.39501881\n -0.01977733         nan  0.16328588  0.22779234  0.19832756  0.3437284\n -0.23148792 -0.19648714         nan -0.10996951 -0.26791527         nan\n  0.26557184         nan -0.40923719 -0.03994385 -0.01684831 -0.15452805\n         nan         nan -0.35530999 -0.44132475 -0.42074315         nan\n  0.00518715         nan         nan -0.01316662 -0.42234392 -0.26723477\n         nan  0.36854905 -0.23160563 -0.370744           nan         nan\n         nan -0.00435756 -0.2922337          nan -0.34618892         nan\n         nan -0.29721924         nan  0.04721898 -0.06619977 -0.05928121\n         nan -0.33796279         nan         nan -0.13143681 -0.13764005\n -0.1266334  -0.10420894         nan         nan         nan         nan\n  0.10222898         nan -0.18019241 -0.08735861         nan         nan\n -0.39281561         nan -0.08945118 -0.25972122         nan -0.29553881\n -0.56230061         nan  0.20484178 -0.03256713         nan  0.08369247\n         nan         nan -0.12564553  0.26836443 -0.07702151 -0.29849393\n  0.06776648 -0.02845052         nan -0.30622479 -0.2539064   0.09135005\n -0.35691309 -0.51815103         nan -0.2344502  -0.01154162 -0.23513555\n -0.2202676  -0.21208352         nan -0.0539568          nan -0.43739927\n         nan         nan -0.16292803 -0.1725035          nan  0.02877189\n         nan -0.22077299 -0.45779531         nan  0.01984532 -0.08288279\n         nan -0.11724715 -0.06506528 -0.03553811         nan -0.59278319\n -0.04659208 -0.45764476  0.10905917  0.73893341         nan -0.18095288\n -0.35465443         nan -0.01895929 -0.51066728 -0.04377123 -0.02648379\n -0.0815755  -0.26200012  0.15519614         nan -0.09806885 -0.04735567\n  0.24265492         nan -0.33346315 -0.1475318          nan  0.18105293\n -0.69491698  0.1589413          nan -0.24688105 -0.1609485   0.05037896\n -0.25574072  0.10930854         nan  0.15494964 -0.26501012 -0.45055902\n -0.11222086         nan -0.22307446         nan -0.1747142          nan\n -0.09117869 -0.17305707]",
         "grid_score",
         "False"
        ],
        [
         "46",
         "122",
         "0.8874325645572905",
         "[-0.15906811  0.09060615 -0.35909975 -0.05256985         nan -0.18224169\n -0.07911646  0.10103788         nan -0.7639252  -0.37195098 -0.19899579\n -0.15983738 -0.44025043 -0.12915131         nan -0.49153241 -0.18244107\n -0.25865074 -0.5511809   0.13904181  0.58003706 -0.04938095  0.26835777\n -0.26405846         nan -0.13362846 -0.07597258  0.14253173 -0.26261469\n  0.12949412 -0.2104984  -0.53197275         nan -0.2168373  -0.31871049\n -0.17496619         nan -0.08277275         nan         nan         nan\n -0.31995482         nan         nan -0.2742338  -0.2015772  -0.10199814\n         nan  0.06346343         nan -0.3060009          nan         nan\n -0.35647047 -0.39810365 -0.04337613 -0.06035691         nan -0.21155723\n         nan         nan -0.13280209         nan -0.26066639  0.02458751\n -0.01557788  0.25269072  0.16124449 -0.26108567  0.57416554 -0.41970923\n         nan -0.10227521 -0.29484894  0.35165778  0.1593622          nan\n  0.18170924  0.08285165         nan -0.16453873 -0.13844517 -0.47519076\n -0.14235337 -0.15532786 -0.07795722 -0.32826677         nan -0.35499653\n         nan -0.01175692 -0.62156016 -0.22109845 -0.26073805 -0.39009202\n -0.35894088         nan -0.0716851          nan         nan -0.08332937\n -0.52811777         nan         nan         nan -0.09466859 -0.23368789\n         nan         nan -0.17329014 -0.19291523         nan         nan\n -0.16587576  0.13471708         nan         nan -0.05475443 -0.18729407\n -0.51694021 -0.04210087         nan -0.23851698         nan  0.10247756\n  0.00941964  0.06606438 -0.19710158 -0.2583899          nan  0.31147739\n -0.06182958         nan -0.44658361         nan -0.25720573 -0.42643072\n  0.05077822         nan -0.40342395         nan -0.23142699  0.10714253\n         nan  0.03393481         nan         nan -0.04591181         nan\n         nan         nan -0.21985586 -0.45941812  0.14661669  0.54769951\n         nan -0.12414706         nan -0.00604474 -0.22969188 -0.09367778\n         nan         nan         nan         nan  0.18534895  0.16886321\n         nan         nan  0.04121301 -0.58411021         nan -0.37252774\n         nan -0.27020303 -0.19321673 -0.05840031         nan -0.11446917\n -0.32119707         nan -0.24958811         nan  0.03596903 -0.25136885\n -0.41131909 -0.08734252         nan         nan         nan         nan\n -0.18018095 -0.13400508         nan -0.07192433         nan         nan\n         nan  0.27539689]",
         "grid_score",
         "True"
        ],
        [
         "47",
         "124",
         "-0.17388455438364211",
         "[ 3.00040968e-02             nan             nan -2.88868138e-01\n             nan             nan             nan  2.43902872e-01\n -1.39711791e-01             nan  1.88553709e-02             nan\n             nan             nan  2.97175751e-01 -1.16574796e-01\n             nan  4.47497583e-01 -4.56463990e-01  1.00397991e-01\n -4.34630950e-01 -1.40262434e-01             nan -1.76654542e-01\n -6.19203911e-02             nan             nan  4.16915346e-01\n             nan             nan             nan  9.17967755e-02\n  2.05492003e-01 -2.50306183e-02             nan             nan\n             nan             nan -1.54123259e-01             nan\n             nan -3.16248380e-01 -7.68065063e-02 -2.29085275e-01\n  1.65097927e-01             nan             nan             nan\n             nan             nan -1.20567859e-01             nan\n             nan             nan             nan -2.12143383e-01\n  1.06865942e-01  1.58287227e-01             nan             nan\n             nan -1.04107264e-01             nan -2.03839228e-02\n             nan -3.04034216e-01             nan -1.91387332e-01\n -1.08145797e-01             nan -1.54556650e-01  7.32982104e-02\n  1.92829997e-01  5.14710031e-01             nan -7.33134194e-02\n  1.60107817e-01             nan  9.28970771e-02             nan\n -4.95250274e-01             nan             nan -4.96894466e-02\n             nan             nan  6.29900283e-02             nan\n  8.43208757e-02 -1.13115420e-01  2.81328800e-01 -6.50589305e-02\n -4.28902681e-02             nan             nan  2.31606361e-03\n -4.59473136e-01 -3.65239660e-01  1.35563937e-04 -3.53936558e-01\n  1.32882306e-02 -1.26726936e-01 -8.57171698e-02 -2.70579015e-01\n             nan -3.01955010e-01             nan             nan\n -1.58474290e-01 -2.15390886e-01  9.13605171e-03 -1.96499136e-01\n  1.93316375e-01             nan             nan             nan\n             nan             nan             nan -2.29984822e-01\n -1.60154111e-01 -3.22871385e-01             nan -4.42159897e-02\n             nan             nan -1.31688186e-01             nan\n             nan             nan             nan -1.40342050e-01\n             nan             nan -1.42166360e-01  1.66781975e-01\n             nan -1.99467975e-01 -2.98628619e-01 -2.42589647e-01\n             nan             nan  2.83587613e-01 -1.71380980e-01\n             nan -2.92244035e-01  2.35959880e-02  8.79270025e-03\n             nan             nan  1.62329240e-01  4.00935864e-02\n             nan -1.79497259e-02 -5.70982237e-02  1.65022241e-01\n -2.81788300e-01 -1.26268735e-01 -7.14247277e-02 -3.47130480e-01\n  4.55012338e-01 -1.00443772e-01 -1.26398851e-01 -1.11681160e-01\n             nan -2.99213695e-01 -1.35871390e-01             nan\n  3.02197889e-02 -5.11636720e-01 -1.37733357e-01  2.37561059e-01\n  6.03736755e-02 -3.75443469e-01 -4.36517839e-01             nan\n  6.63425683e-03  3.14673852e-03 -1.97361539e-01 -2.71375348e-01\n             nan -1.59803905e-01             nan -9.77345977e-02\n             nan  2.18684709e-01             nan  3.51855566e-01\n -1.79153412e-01  3.44375290e-03 -2.84911816e-01  1.70231809e-01\n             nan -2.97994435e-01             nan             nan\n             nan -2.60875795e-02  2.14896265e-02             nan]",
         "grid_score",
         "False"
        ],
        [
         "48",
         "137",
         null,
         "[ 0.19521963  0.31034434         nan -0.40886484  0.07142285         nan\n         nan         nan         nan -0.15146923 -0.20414986 -0.37268233\n  0.32207422         nan -0.18512248 -0.47748189  0.35989542 -0.5381171\n         nan -0.12305028  0.05806373         nan         nan -0.25148477\n -0.26574293  0.30322262  0.133759   -0.17599387 -0.50703519 -0.14672095\n         nan  0.05022761 -0.12384424 -0.02181784         nan         nan\n -0.24434457 -0.21426829  0.05491698  0.13704366         nan -0.20049421\n  0.01886906 -0.18939569 -0.379126    0.071558    0.56406175         nan\n         nan         nan         nan  0.03050197  0.11965398         nan\n -0.16169042         nan         nan  0.12008447  0.0983635  -0.05528538\n -0.17004128         nan -0.00836055 -0.29829095 -0.08428274 -0.00936418\n         nan  0.07445575  0.25074335 -0.28652809 -0.10939737 -0.03026277\n         nan -0.13975255         nan         nan -0.00632391  0.27181689\n  0.34399214         nan         nan -0.0273452  -0.19915372         nan\n         nan -0.10612866 -0.10123886  0.0584835   0.13472761 -0.10257103\n         nan         nan  0.49617924 -0.22316604         nan         nan\n         nan  0.04677098 -0.22021057         nan -0.18082332 -0.37528398\n  0.25656052         nan         nan         nan         nan  0.08812457\n  0.29195443         nan -0.56658485  0.04316849  0.40359896         nan\n -0.39635063         nan -0.14125237         nan  0.50310807         nan\n -0.35025389 -0.18643563 -0.36422138  0.40194694 -0.07421049         nan\n -0.22711363 -0.16659319  0.01900995         nan  0.26429818         nan\n         nan -0.20896322         nan         nan         nan         nan\n         nan -0.30749275 -0.03236104  0.54821964 -0.04205136         nan\n         nan         nan -0.29266593 -0.17052157         nan -0.26791025\n         nan         nan         nan -0.20538002         nan -0.1595978\n         nan  0.07856661         nan         nan         nan         nan\n -0.38309257         nan -0.43169493         nan -0.35622421         nan\n         nan -0.18096279         nan         nan  0.12204461         nan\n         nan  0.0054147  -0.19623008 -0.08057173         nan         nan\n -0.06230985         nan -0.2227266  -0.16675605  0.01246944         nan\n -0.23545944 -0.53652242         nan -0.63441898         nan -0.11948797\n         nan -0.0057289          nan         nan -0.0393433   0.38558381\n         nan         nan]",
         "grid_score",
         "False"
        ],
        [
         "49",
         "140",
         "0.10520187059866373",
         "[            nan             nan -2.89886973e-02             nan\n             nan             nan             nan -3.62212191e-01\n             nan -8.48089480e-02             nan             nan\n             nan -3.19213464e-02  2.78605757e-01             nan\n             nan             nan             nan             nan\n  5.23589233e-04             nan             nan             nan\n             nan             nan -3.16559531e-01  2.19673824e-01\n -2.58629017e-01 -5.35168654e-02 -1.77531942e-02 -1.50863200e-01\n -1.48129283e-01  1.74383542e-01             nan -1.10063605e-01\n  6.43451706e-01             nan             nan             nan\n             nan -1.68956866e-01 -2.53824617e-01             nan\n  1.65836096e-02 -6.70375355e-02             nan             nan\n -3.54319151e-01             nan             nan             nan\n  1.38637635e-01             nan -2.73890088e-01  5.25043252e-02\n -4.75744794e-01 -3.18126835e-01 -2.62378019e-02  1.37919137e-02\n             nan             nan             nan             nan\n -1.16950077e-01 -3.76093989e-01 -1.97700694e-03             nan\n             nan             nan -2.64139092e-01 -3.58739479e-02\n -3.43525224e-01 -1.32604518e-01             nan -1.02623532e-01\n             nan -2.50678337e-01  4.95169376e-02 -1.68350113e-01\n -4.18486005e-01 -1.66533733e-01 -3.81241143e-02 -2.92533909e-01\n  7.12932435e-02             nan             nan -8.05998159e-03\n -1.87473180e-01 -3.73287055e-02             nan  3.98109263e-01\n             nan             nan -1.17612945e-01 -1.15228767e-01\n  2.11555970e-02             nan -1.73659118e-01 -1.73636637e-01\n             nan  3.63137484e-01 -5.15238415e-01 -3.27034349e-02\n -1.50048432e-01             nan -3.06690882e-01  2.70244572e-01\n             nan             nan -2.05083238e-01 -8.44786916e-02\n  6.57732634e-02             nan  4.54933905e-01 -5.05379535e-01\n             nan             nan -1.62385746e-01  5.86373741e-02\n -2.77830124e-01             nan  3.30933631e-01             nan\n -2.16089403e-01  2.83380694e-01 -4.35033992e-01 -4.14085639e-02\n -4.58731898e-01 -4.62553416e-01 -7.37752499e-02 -1.73637656e-01\n             nan -1.96904483e-01 -2.58373717e-01  8.29253582e-02\n             nan -1.46917761e-01             nan  6.54509258e-02\n -2.44601874e-01 -1.82332400e-02             nan -1.78156027e-01\n             nan -2.03281091e-01 -2.30663499e-01  3.57990581e-01\n -5.88737079e-01             nan -2.16672908e-01  3.81929396e-02\n  8.31899757e-02             nan             nan -3.68162896e-02\n -2.60930685e-01 -4.36842740e-02 -3.02889321e-01 -2.21191768e-01\n             nan             nan  2.11182953e-02             nan\n             nan             nan -3.76593713e-02 -3.57169415e-01\n -4.38814892e-01             nan -1.58913263e-01             nan\n -5.05947487e-02 -9.46330416e-02             nan  3.40420387e-02\n             nan -2.18007103e-01 -1.32793207e-01 -2.52580223e-01\n             nan             nan -4.04872651e-01             nan\n -4.05025267e-01             nan -1.29625102e-01 -2.06096156e-01\n             nan             nan             nan             nan\n  8.93150679e-02 -2.25126445e-01             nan -5.00764289e-01\n  6.05836632e-01 -5.56581774e-02             nan             nan]",
         "grid_score",
         "False"
        ]
       ],
       "shape": {
        "columns": 5,
        "rows": 271
       }
      },
      "text/html": [
       "<div>\n",
       "<style scoped>\n",
       "    .dataframe tbody tr th:only-of-type {\n",
       "        vertical-align: middle;\n",
       "    }\n",
       "\n",
       "    .dataframe tbody tr th {\n",
       "        vertical-align: top;\n",
       "    }\n",
       "\n",
       "    .dataframe thead th {\n",
       "        text-align: right;\n",
       "    }\n",
       "</style>\n",
       "<table border=\"1\" class=\"dataframe\">\n",
       "  <thead>\n",
       "    <tr style=\"text-align: right;\">\n",
       "      <th></th>\n",
       "      <th>cluster_id</th>\n",
       "      <th>grid_score</th>\n",
       "      <th>null_distribution</th>\n",
       "      <th>type</th>\n",
       "      <th>sig</th>\n",
       "    </tr>\n",
       "  </thead>\n",
       "  <tbody>\n",
       "    <tr>\n",
       "      <th>0</th>\n",
       "      <td>2</td>\n",
       "      <td>-0.206682</td>\n",
       "      <td>[-0.17679631413640104, nan, nan, -0.2460700449...</td>\n",
       "      <td>grid_score</td>\n",
       "      <td>False</td>\n",
       "    </tr>\n",
       "    <tr>\n",
       "      <th>1</th>\n",
       "      <td>10</td>\n",
       "      <td>NaN</td>\n",
       "      <td>[nan, -0.045821312930809675, -0.02681598672637...</td>\n",
       "      <td>grid_score</td>\n",
       "      <td>False</td>\n",
       "    </tr>\n",
       "    <tr>\n",
       "      <th>2</th>\n",
       "      <td>11</td>\n",
       "      <td>-0.136985</td>\n",
       "      <td>[-0.1301796113351325, -0.33556905260207637, -0...</td>\n",
       "      <td>grid_score</td>\n",
       "      <td>False</td>\n",
       "    </tr>\n",
       "    <tr>\n",
       "      <th>3</th>\n",
       "      <td>16</td>\n",
       "      <td>-0.078053</td>\n",
       "      <td>[0.05160164709640355, 0.10580529262268437, -0....</td>\n",
       "      <td>grid_score</td>\n",
       "      <td>False</td>\n",
       "    </tr>\n",
       "    <tr>\n",
       "      <th>4</th>\n",
       "      <td>18</td>\n",
       "      <td>NaN</td>\n",
       "      <td>[0.45762596597479266, 0.03033378229710853, -0....</td>\n",
       "      <td>grid_score</td>\n",
       "      <td>False</td>\n",
       "    </tr>\n",
       "    <tr>\n",
       "      <th>...</th>\n",
       "      <td>...</td>\n",
       "      <td>...</td>\n",
       "      <td>...</td>\n",
       "      <td>...</td>\n",
       "      <td>...</td>\n",
       "    </tr>\n",
       "    <tr>\n",
       "      <th>266</th>\n",
       "      <td>550</td>\n",
       "      <td>-0.180905</td>\n",
       "      <td>[nan, -0.04138019844483376, -0.153753903198992...</td>\n",
       "      <td>grid_score</td>\n",
       "      <td>False</td>\n",
       "    </tr>\n",
       "    <tr>\n",
       "      <th>267</th>\n",
       "      <td>552</td>\n",
       "      <td>NaN</td>\n",
       "      <td>[nan, -0.22624146619012747, -0.230021660779511...</td>\n",
       "      <td>grid_score</td>\n",
       "      <td>False</td>\n",
       "    </tr>\n",
       "    <tr>\n",
       "      <th>268</th>\n",
       "      <td>553</td>\n",
       "      <td>-0.028267</td>\n",
       "      <td>[-0.38631363572050426, 0.010739914961749183, 0...</td>\n",
       "      <td>grid_score</td>\n",
       "      <td>False</td>\n",
       "    </tr>\n",
       "    <tr>\n",
       "      <th>269</th>\n",
       "      <td>554</td>\n",
       "      <td>-0.310478</td>\n",
       "      <td>[nan, 0.06357685210635847, nan, -0.47895806066...</td>\n",
       "      <td>grid_score</td>\n",
       "      <td>False</td>\n",
       "    </tr>\n",
       "    <tr>\n",
       "      <th>270</th>\n",
       "      <td>556</td>\n",
       "      <td>NaN</td>\n",
       "      <td>[nan, -0.4080412747327036, -0.6231994389744908...</td>\n",
       "      <td>grid_score</td>\n",
       "      <td>False</td>\n",
       "    </tr>\n",
       "  </tbody>\n",
       "</table>\n",
       "<p>271 rows × 5 columns</p>\n",
       "</div>"
      ],
      "text/plain": [
       "     cluster_id  grid_score  \\\n",
       "0             2   -0.206682   \n",
       "1            10         NaN   \n",
       "2            11   -0.136985   \n",
       "3            16   -0.078053   \n",
       "4            18         NaN   \n",
       "..          ...         ...   \n",
       "266         550   -0.180905   \n",
       "267         552         NaN   \n",
       "268         553   -0.028267   \n",
       "269         554   -0.310478   \n",
       "270         556         NaN   \n",
       "\n",
       "                                     null_distribution        type    sig  \n",
       "0    [-0.17679631413640104, nan, nan, -0.2460700449...  grid_score  False  \n",
       "1    [nan, -0.045821312930809675, -0.02681598672637...  grid_score  False  \n",
       "2    [-0.1301796113351325, -0.33556905260207637, -0...  grid_score  False  \n",
       "3    [0.05160164709640355, 0.10580529262268437, -0....  grid_score  False  \n",
       "4    [0.45762596597479266, 0.03033378229710853, -0....  grid_score  False  \n",
       "..                                                 ...         ...    ...  \n",
       "266  [nan, -0.04138019844483376, -0.153753903198992...  grid_score  False  \n",
       "267  [nan, -0.22624146619012747, -0.230021660779511...  grid_score  False  \n",
       "268  [-0.38631363572050426, 0.010739914961749183, 0...  grid_score  False  \n",
       "269  [nan, 0.06357685210635847, nan, -0.47895806066...  grid_score  False  \n",
       "270  [nan, -0.4080412747327036, -0.6231994389744908...  grid_score  False  \n",
       "\n",
       "[271 rows x 5 columns]"
      ]
     },
     "execution_count": 53,
     "metadata": {},
     "output_type": "execute_result"
    }
   ],
   "source": [
    "grid_table"
   ]
  },
  {
   "cell_type": "code",
   "execution_count": 36,
   "metadata": {},
   "outputs": [
    {
     "data": {
      "image/png": "[encoded data removed]",
      "text/plain": [
       "<Figure size 600x200 with 4 Axes>"
      ]
     },
     "metadata": {},
     "output_type": "display_data"
    }
   ],
   "source": [
    "fig, axs = plt.subplots(1, 4, layout='constrained', figsize=(6, 2))\n",
    "axs[0].hist(grid_scores)\n",
    "axs[1].hist(ellipse_grid_scores)\n",
    "axs[2].hist(theta_indexes)\n",
    "axs[3].hist(spatial_information_scores)\n",
    "axs[0].set_title('grid_scores',fontsize=8)\n",
    "axs[1].set_title('ellipse_grid_score',fontsize=8)\n",
    "axs[2].set_title('theta_index',fontsize=8)\n",
    "axs[3].set_title('spatial_info',fontsize=8)\n",
    "plt.show()\n"
   ]
  }
 ],
 "metadata": {
  "kernelspec": {
   "display_name": "sm",
   "language": "python",
   "name": "python3"
  },
  "language_info": {
   "codemirror_mode": {
    "name": "ipython",
    "version": 3
   },
   "file_extension": ".py",
   "mimetype": "text/x-python",
   "name": "python",
   "nbconvert_exporter": "python",
   "pygments_lexer": "ipython3",
   "version": "3.11.11"
  }
 },
 "nbformat": 4,
 "nbformat_minor": 2
}
