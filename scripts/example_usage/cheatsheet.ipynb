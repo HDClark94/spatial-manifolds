{
 "cells": [
  {
   "cell_type": "code",
   "execution_count": 25,
   "metadata": {},
   "outputs": [
    {
     "name": "stdout",
     "output_type": "stream",
     "text": [
      "The autoreload extension is already loaded. To reload it, use:\n",
      "  %reload_ext autoreload\n"
     ]
    }
   ],
   "source": [
    "import numpy as np\n",
    "import pandas as pd\n",
    "import pynapple as nap\n",
    "from pathlib import Path\n",
    "from matplotlib import pyplot as plt\n",
    "from scipy.ndimage import gaussian_filter, rotate\n",
    "from spatial_manifolds.data.binning import get_bin_config\n",
    "from spatial_manifolds.data.loading import load_session\n",
    "import warnings\n",
    "warnings.filterwarnings('ignore')\n",
    "\n",
    "%load_ext autoreload\n",
    "%autoreload 2"
   ]
  },
  {
   "cell_type": "code",
   "execution_count": 26,
   "metadata": {},
   "outputs": [],
   "source": [
    "mouse = 29\n",
    "day = 23\n",
    "session_type = 'VR'\n",
    "sorter = 'kilosort4'\n",
    "storage = Path('/Users/harryclark/Downloads/nwb_data/')\n",
    "alpha = 0.001\n",
    "n_jobs = 8\n",
    "n_shuffles = 100\n",
    "seed = 1\n",
    "\n",
    "class Args:\n",
    "    def __init__(self,mouse,day,session_type,sorter,storage,alpha,n_jobs,n_shuffles,seed):\n",
    "        self.mouse = mouse\n",
    "        self.day = day\n",
    "        self.session_type = session_type\n",
    "        self.sorter = sorter\n",
    "        self.storage = storage\n",
    "        self.alpha = alpha\n",
    "        self.n_jobs = n_jobs\n",
    "        self.n_shuffles = n_shuffles\n",
    "        self.seed = seed\n",
    "args = Args(mouse,day,session_type,sorter,storage,alpha,n_jobs,n_shuffles,seed)\n",
    "\n",
    "if session_type == 'VR':\n",
    "    tl = 200\n",
    "elif session_type == 'MCVR':\n",
    "    tl = 230\n",
    "bin_config = get_bin_config(session_type)['P']\n",
    "\n"
   ]
  },
  {
   "cell_type": "code",
   "execution_count": 27,
   "metadata": {},
   "outputs": [],
   "source": [
    "# Load session\n",
    "session, session_path, neurons = load_session(args)\n",
    "tuning_scores = {\n",
    "    path.with_suffix('').name: pd.read_parquet(path)\n",
    "    for path in (session_path / 'tuning_scores').iterdir()\n",
    "}"
   ]
  },
  {
   "cell_type": "markdown",
   "metadata": {},
   "source": [
    "##### subset based on brain region #####"
   ]
  },
  {
   "cell_type": "code",
   "execution_count": 28,
   "metadata": {},
   "outputs": [
    {
     "name": "stdout",
     "output_type": "stream",
     "text": [
      "cluster locations include ['ENTm1' 'ENTm2' 'ENTm3' 'root']\n"
     ]
    }
   ],
   "source": [
    "print(f'cluster locations include {np.unique(neurons.brain_region)}')\n",
    "in_brain = neurons[neurons.brain_region != 'root'] # remove out of brain units\n",
    "in_very_specific_region = neurons[neurons.brain_region == 'ENTm2'] # be specific to a location\n",
    "in_specific_region = neurons[neurons.brain_region.str.startswith('ENT')] # not too specific"
   ]
  },
  {
   "cell_type": "markdown",
   "metadata": {},
   "source": [
    "##### create tuning curve dictionary #####"
   ]
  },
  {
   "cell_type": "code",
   "execution_count": 29,
   "metadata": {},
   "outputs": [
    {
     "name": "stdout",
     "output_type": "stream",
     "text": [
      "tuning curve features can be found by running code:\n",
      "session\n",
      "and then looking for Tsd object\n"
     ]
    }
   ],
   "source": [
    "print(f'tuning curve features can be found by running code:')\n",
    "print(f'session')\n",
    "print(f'and then looking for Tsd object')\n",
    "n_bins = bin_config['num_bins']\n",
    "bounds = bin_config['bounds']\n",
    "sigma = bin_config['smooth_sigma']\n",
    "\n",
    "tcs = {}\n",
    "for index in neurons.index:\n",
    "    this_neuron = neurons[neurons.index == index]\n",
    "    trial_tcs = []\n",
    "    for tn in session['trials']['trial_number']:\n",
    "        trial = session['trials'][session['trials']['trial_number'] == tn]\n",
    "        tc = nap.compute_1d_tuning_curves(this_neuron, \n",
    "                                            session[\"P\"], \n",
    "                                            nb_bins=n_bins, \n",
    "                                            minmax=[bounds[0], bounds[1]],\n",
    "                                            ep=session[\"moving\"].intersect(trial))[index]\n",
    "        tc = np.nan_to_num(tc)\n",
    "        trial_tcs.append(tc)\n",
    "    trial_tcs = np.array(trial_tcs)\n",
    "    trial_tcs_flat = trial_tcs.flatten()\n",
    "    trial_tcs_flat = gaussian_filter(np.nan_to_num(trial_tcs_flat).astype(np.float64), sigma=sigma)\n",
    "    trial_tcs = trial_tcs_flat.reshape(trial_tcs.shape)\n",
    "    tcs[index] = trial_tcs"
   ]
  },
  {
   "cell_type": "code",
   "execution_count": null,
   "metadata": {},
   "outputs": [],
   "source": []
  }
 ],
 "metadata": {
  "kernelspec": {
   "display_name": "sm",
   "language": "python",
   "name": "python3"
  },
  "language_info": {
   "codemirror_mode": {
    "name": "ipython",
    "version": 3
   },
   "file_extension": ".py",
   "mimetype": "text/x-python",
   "name": "python",
   "nbconvert_exporter": "python",
   "pygments_lexer": "ipython3",
   "version": "3.11.11"
  }
 },
 "nbformat": 4,
 "nbformat_minor": 2
}
