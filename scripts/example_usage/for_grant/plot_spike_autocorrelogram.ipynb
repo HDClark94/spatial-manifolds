{
 "cells": [
  {
   "cell_type": "code",
   "execution_count": 19,
   "metadata": {},
   "outputs": [
    {
     "name": "stdout",
     "output_type": "stream",
     "text": [
      "The autoreload extension is already loaded. To reload it, use:\n",
      "  %reload_ext autoreload\n"
     ]
    }
   ],
   "source": [
    "import numpy as np\n",
    "import pandas as pd\n",
    "import pynapple as nap\n",
    "from pathlib import Path\n",
    "from matplotlib import pyplot as plt\n",
    "from scipy.ndimage import gaussian_filter, rotate\n",
    "from spatial_manifolds.data.binning import get_bin_config\n",
    "from spatial_manifolds.data.loading import load_session\n",
    "import warnings\n",
    "warnings.filterwarnings('ignore')\n",
    "\n",
    "%load_ext autoreload\n",
    "%autoreload 2"
   ]
  },
  {
   "cell_type": "code",
   "execution_count": 20,
   "metadata": {},
   "outputs": [],
   "source": [
    "mouse = 25\n",
    "day = 19\n",
    "session_type = 'VR'\n",
    "sorter = 'kilosort4'\n",
    "storage = Path('/Users/harryclark/Downloads/COHORT12_nolfp/')\n",
    "alpha = 0.001\n",
    "n_jobs = 8\n",
    "n_shuffles = 100\n",
    "seed = 1\n",
    "\n",
    "class Args:\n",
    "    def __init__(self,mouse,day,session_type,sorter,storage,alpha,n_jobs,n_shuffles,seed):\n",
    "        self.mouse = mouse\n",
    "        self.day = day\n",
    "        self.session_type = session_type\n",
    "        self.sorter = sorter\n",
    "        self.storage = storage\n",
    "        self.alpha = alpha\n",
    "        self.n_jobs = n_jobs\n",
    "        self.n_shuffles = n_shuffles\n",
    "        self.seed = seed\n",
    "args = Args(mouse,day,session_type,sorter,storage,alpha,n_jobs,n_shuffles,seed)\n",
    "\n",
    "if session_type == 'VR':\n",
    "    tl = 200\n",
    "elif session_type == 'MCVR':\n",
    "    tl = 230\n",
    "bin_config = get_bin_config(session_type)['P']\n",
    "\n"
   ]
  },
  {
   "cell_type": "code",
   "execution_count": 21,
   "metadata": {},
   "outputs": [],
   "source": [
    "# Load session\n",
    "session, session_path, neurons = load_session(args)\n",
    "tuning_scores = {\n",
    "    path.with_suffix('').name: pd.read_parquet(path)\n",
    "    for path in (session_path / 'tuning_scores').iterdir()\n",
    "}"
   ]
  },
  {
   "cell_type": "code",
   "execution_count": 22,
   "metadata": {},
   "outputs": [],
   "source": [
    "\n",
    "def compute_autocorrelogram(spike_times, bin_size=1.0, window_size=100.0):\n",
    "    \"\"\"\n",
    "    Compute the spike autocorrelogram.\n",
    "\n",
    "    Parameters:\n",
    "    spike_times (list or np.array): Array of spike times.\n",
    "    bin_size (float): Size of each bin in the histogram (in the same units as spike_times).\n",
    "    window_size (float): Size of the window for the autocorrelogram (in the same units as spike_times).\n",
    "\n",
    "    Returns:\n",
    "    bins (np.array): Array of bin centers.\n",
    "    counts (np.array): Array of counts in each bin.\n",
    "    \"\"\"\n",
    "    spike_times = np.array(spike_times)\n",
    "    n_spikes = len(spike_times)\n",
    "    \n",
    "    # Compute all pairwise differences\n",
    "    diffs = np.subtract.outer(spike_times, spike_times).flatten()\n",
    "    \n",
    "    # Remove zero-lag (self-pairs)\n",
    "    diffs = diffs[diffs != 0]\n",
    "    \n",
    "    # Create histogram\n",
    "    bins = np.arange(-window_size, window_size + bin_size, bin_size)\n",
    "    counts, _ = np.histogram(diffs, bins=bins)\n",
    "    \n",
    "    # Normalize by number of spikes and bin size\n",
    "    counts = counts / (n_spikes * bin_size)\n",
    "    \n",
    "    # Compute bin centers\n",
    "    bin_centers = (bins[:-1] + bins[1:]) / 2\n",
    "    \n",
    "    return bin_centers, counts"
   ]
  },
  {
   "cell_type": "code",
   "execution_count": 23,
   "metadata": {},
   "outputs": [],
   "source": [
    "ENTm1_neurons = neurons[neurons.brain_region == 'ENTm1'] # be specific to a location\n",
    "\n",
    "autocorrs_10ms = {}\n",
    "for index in ENTm1_neurons.index:\n",
    "    this_neuron = ENTm1_neurons[ENTm1_neurons.index == index]\n",
    "    spike_times = np.array(this_neuron[index].index)\n",
    "    bin_size=0.001\n",
    "    window_size=0.01\n",
    "    bins, counts = compute_autocorrelogram(spike_times, bin_size, window_size)\n",
    "    autocorrs_10ms[index] = counts\n",
    "\n"
   ]
  },
  {
   "cell_type": "code",
   "execution_count": 24,
   "metadata": {},
   "outputs": [
    {
     "data": {
      "image/png": "[encoded data removed]",
      "text/plain": [
       "<Figure size 1000x150 with 10 Axes>"
      ]
     },
     "metadata": {},
     "output_type": "display_data"
    }
   ],
   "source": [
    "# Plot\n",
    "ncols = 10\n",
    "nrows = int(np.ceil(len(autocorrs_10ms)/ncols))\n",
    "fig, ax = plt.subplots(ncols=ncols, nrows=nrows, \n",
    "                       figsize=(10, 3*(np.ceil(len(autocorrs_10ms)/6)/4)), squeeze=False)\n",
    "counter = 0\n",
    "for j in range(nrows):\n",
    "    for i in range(ncols):\n",
    "        if counter<len(autocorrs_10ms):\n",
    "            index = ENTm1_neurons.index[counter]\n",
    "            counts = autocorrs_10ms[index]\n",
    "            ax[j, i].bar(bins, counts, width=bin_size, align='center', edgecolor='black', color='black')\n",
    "        ax[j, i].set_xticks([])\n",
    "        ax[j, i].set_yticks([])\n",
    "        ax[j, i].xaxis.set_visible(False)\n",
    "        ax[j, i].yaxis.set_visible(False)\n",
    "        ax[j, i].spines['top'].set_visible(False)\n",
    "        ax[j, i].spines['right'].set_visible(False)\n",
    "        ax[j, i].spines['bottom'].set_visible(False)\n",
    "        ax[j, i].spines['left'].set_visible(False)\n",
    "        ax[j, i].xaxis.set_tick_params(labelbottom=False)\n",
    "        ax[j, i].yaxis.set_tick_params(labelleft=False)\n",
    "        counter+=1\n",
    "plt.tight_layout()\n",
    "plt.show()\n",
    "fig.savefig('/Users/harryclark/Downloads/M25_D19_MECl1_10ms_ac.pdf')\n"
   ]
  },
  {
   "cell_type": "code",
   "execution_count": 25,
   "metadata": {},
   "outputs": [],
   "source": [
    "\n",
    "ENTm1_neurons = neurons[neurons.brain_region == 'ENTm1'] # be specific to a location\n",
    "\n",
    "autocorrs_250ms = {}\n",
    "for index in ENTm1_neurons.index:\n",
    "    this_neuron = ENTm1_neurons[ENTm1_neurons.index == index]\n",
    "    spike_times = np.array(this_neuron[index].index)\n",
    "    bin_size=0.01\n",
    "    window_size=0.25\n",
    "    bins, counts = compute_autocorrelogram(spike_times, bin_size, window_size)\n",
    "    autocorrs_250ms[index] = counts\n"
   ]
  },
  {
   "cell_type": "code",
   "execution_count": 26,
   "metadata": {},
   "outputs": [
    {
     "data": {
      "image/png": "[encoded data removed]",
      "text/plain": [
       "<Figure size 1000x150 with 10 Axes>"
      ]
     },
     "metadata": {},
     "output_type": "display_data"
    }
   ],
   "source": [
    "# Plot\n",
    "ncols = 10\n",
    "nrows = int(np.ceil(len(autocorrs_250ms)/ncols))\n",
    "fig, ax = plt.subplots(ncols=ncols, nrows=nrows, \n",
    "                       figsize=(10, 3*(np.ceil(len(autocorrs_250ms)/6)/4)), squeeze=False)\n",
    "counter = 0\n",
    "for j in range(nrows):\n",
    "    for i in range(ncols):\n",
    "        if counter<len(autocorrs_250ms):\n",
    "            index = ENTm1_neurons.index[counter]\n",
    "            counts = autocorrs_250ms[index]\n",
    "            ax[j, i].bar(bins, counts, width=bin_size, align='center', edgecolor='black', color='black')\n",
    "        ax[j, i].set_xticks([])\n",
    "        ax[j, i].set_yticks([])\n",
    "        ax[j, i].xaxis.set_visible(False)\n",
    "        ax[j, i].yaxis.set_visible(False)\n",
    "        ax[j, i].spines['top'].set_visible(False)\n",
    "        ax[j, i].spines['right'].set_visible(False)\n",
    "        ax[j, i].spines['bottom'].set_visible(False)\n",
    "        ax[j, i].spines['left'].set_visible(False)\n",
    "        ax[j, i].xaxis.set_tick_params(labelbottom=False)\n",
    "        ax[j, i].yaxis.set_tick_params(labelleft=False)\n",
    "        counter+=1\n",
    "plt.tight_layout()\n",
    "plt.show()\n",
    "fig.savefig('/Users/harryclark/Downloads/M25_D19_MECl1_250ms_ac.pdf')\n",
    "\n"
   ]
  },
  {
   "cell_type": "code",
   "execution_count": null,
   "metadata": {},
   "outputs": [],
   "source": []
  }
 ],
 "metadata": {
  "kernelspec": {
   "display_name": "sm",
   "language": "python",
   "name": "python3"
  },
  "language_info": {
   "codemirror_mode": {
    "name": "ipython",
    "version": 3
   },
   "file_extension": ".py",
   "mimetype": "text/x-python",
   "name": "python",
   "nbconvert_exporter": "python",
   "pygments_lexer": "ipython3",
   "version": "3.11.11"
  }
 },
 "nbformat": 4,
 "nbformat_minor": 2
}
